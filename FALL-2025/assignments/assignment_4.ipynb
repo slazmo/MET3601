{
 "cells": [
  {
   "cell_type": "markdown",
   "id": "672684ea-1e2e-4b03-aa2a-7d2477fd29e7",
   "metadata": {},
   "source": [
    "### Assignment #4\n",
    "\n",
    "This assignment can be completed by adding code to this notebook for each question.\n",
    "\n",
    "Turn in a completed notebook, renamed as\n",
    "\n",
    "`assignment4_lastname.ipynb`\n",
    "\n",
    "via JupyterHub and Canvas. \n",
    "\n",
    "**DUE DATE: 15 October 2025 at 11:00 a.m.**  \n",
    "\n",
    "**TOTAL PTS = 50** \n",
    "\n",
    "* Prior to turning in your notebook, please cleanup and comment your code for each problem. Be sure that your output is self-describing. All code to answer a question should appear in a single cell after the question.\n",
    "\n",
    "* Grades on questions will assess both the correctness of the output, but also the quality/efficiency of the code. I do not expect you to have the most efficient or highest quality of code, but I would like your best refined code."
   ]
  },
  {
   "attachments": {
    "33952937-8a54-4e05-947f-a3acd56ddd50.png": {
     "image/png": "[encoded data removed]"
    }
   },
   "cell_type": "markdown",
   "id": "cf3bafd2-8f77-4af3-8c58-f567a2c3fea1",
   "metadata": {},
   "source": [
    "## Question\n",
    "(50 points total) The world population has been growing for a long time (a log plot for the y-axis would be useful here!), but not evenly among different countries. You are given the task of analyzing this dataset by a UN Council working group on Environmental Sustaibability. They have tasked you with both some numeric analysis as well as providing some graphical representations of the data. The data you were given comes from the UN and contains the population data for a number of countries from 1950-2020 in the thousands (i.e., **the total population can be found by multiplying the values by 1000**). Here are the lists of tasks that you are required to perform:\n",
    "* (10 points) Create a multipanel plot of the timeseries of the total population for all of the countries by continent (i.e., Americas, Africa, Europe, Asia, and Oceania). For example, the Europe panel would have 3 line plots, Oceania would hav 2, etc. Make sure to label the figure with all approrpriate elements (e.g., legend, labels, etc.) Note that intead of multiplying the population by 1000, you can label your y axis 'population (x 10$^3$) instead! Save your multipanel figure as `HW4_plot1_<lastname>.png`\n",
    "* (10 points) Plot the timeseries of the total population for all of the countries by continent (i.e., Americas, Africa, Europe, Asia, Oceania). This should be one panel with 5 lines (one for each continent). Make sure to label the figure with all approrpriate elements (e.g., legend, axis labels, etc.). Save your figure as `HW4_plot2_<lastname>.png`\n",
    "* (5 points) Write code to determine the percent change in population for each five year period (note: you'll have one less column of data for percent differences than for the original dataset)\n",
    "* (10 points) Plot the percent change for the **US, Germany, China, and India** individually as a 4-panel bar plot. There should be a 'bar' for each 5-year period (starting in 1955). Make sure to label the figure with all appropriate elements (e.g., each graph should have a title with the country name). Save your figure as `HW4_plot3_<lastname>.png`\n",
    "* (10 pts) Plot the percent change for each 5-year period on a one bar plot (i.e., each 5-year period will have 4 bars as shown below for the % change from 2020 - 2015). Save your figure as `HW4_plot4_<lastname>.png`\n",
    "* (5 points) Write code to determine and print out which five countries had the **highest and lowest** population growth by raw increase in population between 1950 and 2020 and report how much their population grew.\n",
    "\n",
    "In addition to the code needed to perform the above tasks, you must include comments wtihin your code that describe what the code is doing. This doesn't have to be done for each line of code, but rather for blocks of code that are related to accomplishing a task.\n",
    "\n",
    "**Notes:**\n",
    "* When printing out results, make sure that it is clear and can easily be interpreted by someone with no coding experience.\n",
    "* When reading in a file, use the absolute path to the file\n",
    "* Sorting is a common asepect of coding and there are a few functions from Numpy that might be helpful including `np.sort` and `np.argsort`; the difficulty here is that you'll have country names in a separate array from your data, which make it slightly more difficult to keep everything aligned.\n",
    "* To calculate the percent change, subtract the new year from the old year and divide by the old year\n",
    "* For a better plot of all of the countries population through time, use the `semilogy` method for plotting instead of just `plot`\n",
    "* Counties by Continent\n",
    "   - Americas: USA, Canada, Mexico, Argentina, Brazil, Costa Rica\n",
    "   - Europe: Germany, United Kingdom, Norway\n",
    "   - Asia: China, India\n",
    "   - Africa: Namibia, South Africa, Nigeria, Kenya, Tanzania, Central African Republic, Egypt\n",
    "   - Oceania: Australia, New Zealand\n",
    "Data file is located in the JupyterHuband + Canvas and is called `world_population_data_1950_2020.csv`\n",
    "\n",
    "Example Text Output (fake data):\n",
    "\n",
    "```\n",
    "The top five population growth countries:\n",
    " 1. Legoland - population grew by 1000000\n",
    " 2. Linuxland - population grew by 984329\n",
    " 3. Pythonland - population grew by 67392\n",
    " .\n",
    " .\n",
    " .\n",
    "\n",
    "```\n",
    "Example of a portion bar plot for the % change from 2020 - 2015, where each country (**US, Germany, China, and India**) is color coded. The figure should range from 1950-2020 is just a screen capture for one portion of that figure!\n",
    "<div align=\"center\">\n",
    "  <img src=\"attachment:33952937-8a54-4e05-947f-a3acd56ddd50.png\" width=\"50\">\n",
    "</div>"
   ]
  },
  {
   "cell_type": "code",
   "execution_count": null,
   "id": "190484a5-ab80-435c-bf3f-c7e57caf710c",
   "metadata": {},
   "outputs": [],
   "source": [
    "#DRL These are the libraries I used\n",
    "from datetime import datetime\n",
    "import matplotlib.pyplot as plt\n",
    "import numpy as np\n",
    "from matplotlib import rcParams\n",
    "import matplotlib.dates as mdates"
   ]
  },
  {
   "cell_type": "code",
   "execution_count": null,
   "id": "818da807-1fc6-4965-bbb1-26a5ee4366ef",
   "metadata": {},
   "outputs": [],
   "source": [
    "#Set the path and file name\n",
    "\n",
    "\n",
    "#Read in the population data via the numpy module loadtxt\n",
    "\n",
    "\n",
    "#Read in the countries separate from the population data\n",
    "\n"
   ]
  },
  {
   "cell_type": "code",
   "execution_count": null,
   "id": "445ad046-9ebd-44dc-bb83-35ad1d4a9ecf",
   "metadata": {},
   "outputs": [],
   "source": [
    "#Create new arrays subseting the population data by continent.  You should have 2 \n",
    "#arrays per continent (one for population and one for the corresponding countries).\n",
    "\n"
   ]
  },
  {
   "cell_type": "code",
   "execution_count": 7,
   "id": "d60054b7-d1bc-4a1c-abe0-9ef4f7f94374",
   "metadata": {},
   "outputs": [],
   "source": [
    "#Plot the 5-panel figure! Use subplot to set up each of your 5 axes. As a hint, DRL\n",
    "#used a for loop for each of the panels...\n",
    "\n",
    "''' \n",
    "for country in africa:\n",
    "    ax1.plot(.....) \n",
    "'''\n",
    "pass #This keeps the line above from printing - you can remove this when your code is \n",
    "     #is has been created 🙈\n",
    "\n"
   ]
  },
  {
   "cell_type": "code",
   "execution_count": null,
   "id": "1f8d89bd-ad6e-4538-a2ce-25055d11494d",
   "metadata": {},
   "outputs": [],
   "source": [
    "#Generate the one-panel figure for the total population by continent\n"
   ]
  },
  {
   "cell_type": "code",
   "execution_count": null,
   "id": "19da30e7-847c-4719-a099-0d6c07fadcbf",
   "metadata": {},
   "outputs": [],
   "source": [
    "#Calculate the % change =(new yr - old yr)/old yr\n"
   ]
  },
  {
   "cell_type": "code",
   "execution_count": null,
   "id": "dd270d66-6607-4ea4-95f9-3063f08451e5",
   "metadata": {},
   "outputs": [],
   "source": [
    "#Put your 4-panel bar graph ihere\n"
   ]
  },
  {
   "cell_type": "code",
   "execution_count": null,
   "id": "4b3c98d8-5012-49d5-9ce3-e8af40af9513",
   "metadata": {},
   "outputs": [],
   "source": [
    "#Put your 1 panel bar graph here\n"
   ]
  },
  {
   "cell_type": "code",
   "execution_count": null,
   "id": "3193ae43-ea35-4790-ab6d-9813b6e22f72",
   "metadata": {},
   "outputs": [],
   "source": [
    "#Put your code for the top 5 and bottom five growth countries here\n"
   ]
  }
 ],
 "metadata": {
  "kernelspec": {
   "display_name": "Python 3 (ipykernel)",
   "language": "python",
   "name": "python3"
  },
  "language_info": {
   "codemirror_mode": {
    "name": "ipython",
    "version": 3
   },
   "file_extension": ".py",
   "mimetype": "text/x-python",
   "name": "python",
   "nbconvert_exporter": "python",
   "pygments_lexer": "ipython3",
   "version": "3.12.2"
  }
 },
 "nbformat": 4,
 "nbformat_minor": 5
}
