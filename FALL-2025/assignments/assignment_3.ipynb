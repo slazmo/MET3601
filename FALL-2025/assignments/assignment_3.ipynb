{
 "cells": [
  {
   "cell_type": "markdown",
   "id": "672684ea-1e2e-4b03-aa2a-7d2477fd29e7",
   "metadata": {},
   "source": [
    "# Assignment #3\n",
    "\n",
    "This assignment can be completed by adding code to this notebook for each question.\n",
    "\n",
    "Rename your notebook on the JupyterHub to\n",
    "\n",
    "`assignment3_lastname.ipynb` where 'lastname' is your full lastname.\n",
    "\n",
    "Upload a copy to Canvas as well!\n",
    "\n",
    "**DUE DATE: 24 September 2025 at 11:00 am.**\n",
    "\n",
    "Do not forget to comment your code for each problem. If you pull code from the internet, you must reference the URL! If you use ChatGPT you must cite your source as well!"
   ]
  },
  {
   "cell_type": "markdown",
   "id": "ae16a1c2-f68b-4063-8222-772327d97c86",
   "metadata": {},
   "source": [
    "## Question #1\n",
    "<span style=\"color:green\">(10 points)</span> Write Python code that will read in the pressures from a file called **hw3_pressure_data.txt** (it is in the assignments folder) and\n",
    "\n",
    "**a)** Use a numpy function to compute the average of all the values in your file.  \n",
    "\n",
    "**b)** Use a numpy function to compute the standard deviation of all the values in your file.\n",
    "\n",
    "**c)** Use a numpy function to **randomly select** 10 values from your data and compute the average.\n",
    "\n",
    "**d)** Compute the difference between the two averages, i.e. b-a (difference in means. This is a single value.\n",
    "\n",
    "**e)** Subtract the mean you calculated in a) from each individual element of your random sample in b). This is a 10-element array.\n",
    "\n",
    "**f)** Use your results in a) and b) to determine whether the individual subset elements are more than 1 std dev away from the data set mean. Return a Boolean array whose elements are True (False) if the value is > 1 (< 1) std. dev.\n",
    "\n",
    "Use an f-string print to format your output which should include the following 3 columns of information.\n",
    "\n",
    "```subset pressure     > 1 Std. Dev.       Difference```\n",
    "\n",
    "```   1003.1                False             3.42```\n",
    "\n",
    "                                    \n",
    "Note that the pressures in the file are in hPa.\n",
    "\n",
    "Notes:\n",
    "* Make sure documentation (e.g., comment block and comments throughout code) is present in your source code\n",
    "* Be sure to use the functionality from NumPy to help randomly select the pressure values.\n",
    "* Break the problem down and complete simpler tasks first and work toward putting it all together.\n",
    "* Make output informative so that anyone running your program understand what is being produced without seeing the assignment.\n",
    "* Have all of your code for this problem contained in one cell when you turn it in\n"
   ]
  },
  {
   "cell_type": "code",
   "execution_count": 21,
   "id": "f1df0f0d-0f9e-4698-81f9-8e7edc744318",
   "metadata": {},
   "outputs": [],
   "source": [
    "# Check the working directory path by runnin the following command\n",
    "!pwd"
   ]
  },
  {
   "cell_type": "code",
   "execution_count": 22,
   "id": "f4f69fc4-1c75-4009-a8d6-bcdaf33dffac",
   "metadata": {},
   "outputs": [],
   "source": [
    "#Read the data set using the numpy function \"loadtext\". It is good practice to\n",
    "#define a pathname and filename first. Copy and paste the result of the pathname\n",
    "#command from the cell above. Don't forget to add the forward slash at the end of\n",
    "#the string as shown below.\n",
    "\n",
    "path = '   /'\n",
    "file = '    '"
   ]
  },
  {
   "cell_type": "markdown",
   "id": "62bfeabc-7039-46a0-be00-c5465c37f6c8",
   "metadata": {
    "tags": []
   },
   "source": [
    "## Question #2\n",
    "<span style=\"color:green\">(20 points)</span> Read in a dataset that contains a number of latitude/longitude pairs in each row and write Python code to calculate the great circle distance between two latitude/longitude points and find the largest and smallest distances from the location pairs in the file.\n",
    "\n",
    "The great circle distance can be calculated in the following manner using the haversine formula:\n",
    "\n",
    "$a =  sin^2(\\Delta \\phi / 2) + cos \\phi_1 * cos \\phi_2 * sin^2(\\Delta \\lambda/2)$\n",
    "\n",
    "$\\Delta \\phi = (\\phi_2 - \\phi_1) $\n",
    "\n",
    "$\\Delta \\lambda = (\\lambda_2 - \\lambda_1) $\n",
    "\n",
    "$c = 2 * atan2(\\sqrt{a}, \\sqrt{1-a})$\n",
    "\n",
    "$d = R * c $\n",
    "\n",
    "where d is the distance bewtween the two points, $\\phi$ is latitude, $\\lambda$ is longitude, R is earth’s radius (mean radius = 6,371 km);\n",
    "note that angles need to be in radians to pass to trig functions!\n",
    "\n",
    "Notes:\n",
    "* There are Numpy functions to help you convert from degrees to radians.\n",
    "* Use of a definition might help in making more readable and reusable code.\n",
    "* $sin^2(x)$ is equivalent to saying $(sin(x))^2$\n",
    "\n",
    "Input:\n",
    "* Latitude/Longitude points from **destination_locations.txt** (Located in the assignments folder`)\n",
    "\n",
    "Output:\n",
    "* Original Latitude/Longitude points and the distance in kilometers between them for each latitude/longitude pair\n",
    "\n",
    "```\n",
    "Example Output:\n",
    "                                              \n",
    "The distance between   46.31, 131.44 and  -23.01, -55.86 is   ?????\n",
    "The distance between   -6.10,  15.62 and  -87.18,  29.22 is   ?????\n",
    "        :                :                   :                  :\n",
    "        :                :                   :                  :\n",
    "```\n",
    "\n",
    "* Identify and print out the shortest and longest distances between points in the dataset.\n",
    "\n",
    "```\n",
    "Example Output:\n",
    "\n",
    "The minimum distance (km) is _____, and occurs for the lat/lon pair:\n",
    "\n",
    "The maximum distance (km) is _____, and occurs for the lat/lon pair:\n",
    "```"
   ]
  },
  {
   "cell_type": "code",
   "execution_count": 23,
   "id": "9be85438-1451-4f44-9dc7-d9027ee3941b",
   "metadata": {},
   "outputs": [],
   "source": [
    "#Read the data set using the numpy function \"loadtext\". If the data file is in \n",
    "#the same directory (folder), there is no need to change the path. You just have\n",
    "#to change the filename.\n"
   ]
  },
  {
   "cell_type": "markdown",
   "id": "e736bd8a-b277-4ce9-ad81-5f18c6c4298d",
   "metadata": {
    "tags": []
   },
   "source": [
    "## Question #3\n",
    "<span style=\"color:green\">(20 points)</span> Write Python code to determine the average, maximum, and minimum SOI for each year. Also determine the number of months that the standardized Southern Oscillation Index (SOI) indicate El Nino conditions (for simplicity defined for this assignment as SOI <= -1.25) or La Nina conditions (for simplicity defined for this assignment as SOI >= 1.25) and report the month, year, and SOI value along with the designation of El Nino or La Nina for each individual El Nino or La Nina month. Finally, determine the maximum and minimum value SOI over the entire period, reporting the month and year they occurred in. Print all of the above results to the screen.\n",
    "\n",
    "Input File: **soi_data_update.txt** (Located in the assignments folder on JupyterHub`)\n",
    "\n",
    "Output:\n",
    "* The average SOI value for each year\n",
    "* The maximum SOI value for each year\n",
    "* The minimum SOI value for each year\n",
    "* Month, Year, and SOI values for El Nino and La Nina Months\n",
    "* The total number of months spent in La Nina for the dataset\n",
    "* The total number of months spent in El Nino for the dataset\n",
    "* The overall maximum and minimum SOI value in the dataset and the month it occurred\n",
    "\n",
    "**Background**\n",
    "\n",
    "The Southern Oscillation Index (SOI) is a measure of the difference between sea level pressure in Tahiti and Darwin, Australian, which gives a proxy for shifts in the Walker Circulation and thus the El Nino – Southern Oscillation (ENSO). There are many other ways to define ENSO periods and a good resource for background information can be found at: https://www.climate.gov/news-features/blogs/enso/why-are-there-so-many-enso-indexes-instead-just-one.\n",
    "\n",
    "Generally, an El Nino or La Nina event cannot be determined from any one month of an ENSO index, however, for simplicity here we define an El Nino event when the SOI value is below -1.25 for any particular month and a La Nina event when the SOI value is above 1.25 for any particular month.\n",
    "\n",
    "Notes:\n",
    "* Break the problem down into smaller bite size pieces. For example, first write your program to be able to read in the input file and separate out the year column from the SOI data columns. Then work to find the global max and min values. Then work on finding individual months that can be classified as El Nino, etc.\n",
    "* Make sure to regularly save your work.\n",
    "* Be sure to verify that your results are correct.\n",
    "* Have all of your code for this problem contained in one cell when you turn it in\n",
    "\n",
    "Please make your program to produce output in a similar fashion as the test cases below.\n",
    "\n",
    "Example Output (Fake Data)\n",
    "\n",
    "```\n",
    ">>>\n",
    "\n",
    "Year  Max SOI  Avg. SOI  Min SOI\n",
    "\n",
    "2024    1.34      0.45    -1.12\n",
    "\n",
    "2025    0.98      0.03    -2.10\n",
    "\n",
    ".\n",
    "\n",
    ".\n",
    "\n",
    ".\n",
    "\n",
    "\n",
    "El Nino: February 2030\n",
    "\n",
    "SOI: -3.5\n",
    "\n",
    "\n",
    "La Nina: July 2031\n",
    "\n",
    "SOI: 1.4\n",
    "\n",
    ".\n",
    "\n",
    ".\n",
    "\n",
    ".\n",
    "\n",
    ".\n",
    "\n",
    "Max SOI of 2.2 in October 2050\n",
    "\n",
    "Min SOI of -3.1 in December 2024\n",
    "\n",
    "Number of La Nina Months: 25\n",
    "\n",
    "Number of El Nino Months: 33\n",
    "\n",
    ">>>\n",
    "```\n"
   ]
  },
  {
   "cell_type": "code",
   "execution_count": 26,
   "id": "34178e7e-e628-4e71-9570-d9547af374ce",
   "metadata": {},
   "outputs": [
    {
     "name": "stdout",
     "output_type": "stream",
     "text": [
      "head: soi_data.txt: No such file or directory\n"
     ]
    }
   ],
   "source": [
    "#First, check out the first ten lines of your file \n",
    "!head -10 soi_data_update.txt"
   ]
  },
  {
   "cell_type": "code",
   "execution_count": null,
   "id": "6963d7c2-0e6f-412d-b8e5-1df3f4614cf2",
   "metadata": {},
   "outputs": [],
   "source": [
    "#Read the data set using the numpy function \"loadtext\". If the data file is in \n",
    "#the same directory (folder), there is no need to change the path. You just have\n",
    "#to change the filename."
   ]
  }
 ],
 "metadata": {
  "kernelspec": {
   "display_name": "Python 3 (ipykernel)",
   "language": "python",
   "name": "python3"
  },
  "language_info": {
   "codemirror_mode": {
    "name": "ipython",
    "version": 3
   },
   "file_extension": ".py",
   "mimetype": "text/x-python",
   "name": "python",
   "nbconvert_exporter": "python",
   "pygments_lexer": "ipython3",
   "version": "3.12.2"
  }
 },
 "nbformat": 4,
 "nbformat_minor": 5
}
