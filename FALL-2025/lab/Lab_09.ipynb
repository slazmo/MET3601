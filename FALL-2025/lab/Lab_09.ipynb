{
 "cells": [
  {
   "cell_type": "markdown",
   "id": "1a87990a-a33c-46ee-b7c5-ae1aad967336",
   "metadata": {},
   "source": [
    "# GeoPandas Lab Assignment: Lab_09 <span style=\"color:red\">  20 pts</span> \n",
    "\n",
    "In this lab, you will explore the use of GeoPandas for reading, manipulating, and plotting shapefiles. You will work with data from the Storm Prediction Center! \n",
    "https://www.spc.noaa.gov/gis/svrgis/ \n",
    "\n",
    "## Objectives\n",
    "- Read and inspect shapefile using GeoPandas\n",
    "- Plot geometries using Cartopy and Matplotlib\n",
    "- Subset GeoDataFrames\n",
    "\n",
    "## Setup\n",
    "Install the required packages if you haven't already:\n",
    "```bash\n",
    "pip install geopandas \n",
    "```"
   ]
  },
  {
   "cell_type": "markdown",
   "id": "2a73a48b-9dad-425b-bf62-909009f0464b",
   "metadata": {},
   "source": [
    "### Import Libraries <span style=\"color:red\">  1 pt</span> "
   ]
  },
  {
   "cell_type": "code",
   "execution_count": null,
   "id": "3708a607-89e9-47c1-8721-aa218286d8c4",
   "metadata": {},
   "outputs": [],
   "source": []
  },
  {
   "cell_type": "markdown",
   "id": "ab7ab355-28c7-4938-9f1b-b038876d22ee",
   "metadata": {},
   "source": [
    "### Open the data file  <span style=\"color:red\">  1 pt</span> "
   ]
  },
  {
   "cell_type": "code",
   "execution_count": null,
   "id": "7949d67c-1f4b-4f07-94af-a132c08e3496",
   "metadata": {},
   "outputs": [],
   "source": []
  },
  {
   "cell_type": "markdown",
   "id": "f3d8d4a9-a4c4-4539-b767-46780de0dd53",
   "metadata": {},
   "source": [
    "### Pop the data <span style=\"color:red\">  1 pt</span> "
   ]
  },
  {
   "cell_type": "code",
   "execution_count": null,
   "id": "d2de13af-9510-4865-8bcb-e4f5fc3f69be",
   "metadata": {},
   "outputs": [],
   "source": []
  },
  {
   "cell_type": "markdown",
   "id": "908e99bf-f9e0-4907-85e9-d5740941a4e9",
   "metadata": {},
   "source": [
    "### Dump the column headers only <span style=\"color:red\">  1 pt</span> "
   ]
  },
  {
   "cell_type": "code",
   "execution_count": null,
   "id": "5d96742b-c234-42fb-b673-7e5e2121eb6e",
   "metadata": {},
   "outputs": [],
   "source": []
  },
  {
   "cell_type": "markdown",
   "id": "a94045bd-e85e-4bdd-abdb-15c83fc5e43a",
   "metadata": {},
   "source": [
    "### Display only the first 10 rows of the GeoDataFrame to inspect the data <span style=\"color:red\">  1 pt</span> "
   ]
  },
  {
   "cell_type": "code",
   "execution_count": null,
   "id": "5bfbe545-ba2f-4e7f-9f36-5d77bd09a856",
   "metadata": {},
   "outputs": [],
   "source": []
  },
  {
   "cell_type": "markdown",
   "id": "9eceabea-88e0-4fb1-bbc6-89200b96eeb7",
   "metadata": {},
   "source": [
    "### Plot the tornado paths on a simple map <span style=\"color:red\">  2 pts</span>\n",
    "There is no projection for this one!"
   ]
  },
  {
   "cell_type": "code",
   "execution_count": null,
   "id": "7cbe40b4-6463-45b4-b819-b28cb919da7d",
   "metadata": {},
   "outputs": [],
   "source": []
  },
  {
   "cell_type": "markdown",
   "id": "dc3e76e8-7ab1-4aa7-8270-94f042c166f2",
   "metadata": {},
   "source": [
    "### Plot the tornado paths on a Cartopy-generated map of the CONUS <span style=\"color:red\">  3 pts</span>\n",
    "Use a Lambert Conformal Projection and add the following features: lakes, states and coastlines."
   ]
  },
  {
   "cell_type": "code",
   "execution_count": null,
   "id": "e0e432a8-fc43-4458-861a-b93be093bf32",
   "metadata": {},
   "outputs": [],
   "source": []
  },
  {
   "cell_type": "markdown",
   "id": "806976fe-1526-45e0-83ad-2d253e7d8f08",
   "metadata": {},
   "source": [
    "### Use the key method to dump the state names <span style=\"color:red\">  1 pt</span>"
   ]
  },
  {
   "cell_type": "code",
   "execution_count": null,
   "id": "9ec91b12-d001-4715-a83e-4e009cd0b699",
   "metadata": {},
   "outputs": [],
   "source": []
  },
  {
   "cell_type": "markdown",
   "id": "d0d74b27-9199-4c70-b3b0-984c021b30cc",
   "metadata": {},
   "source": [
    "### Filter the data for a single state (your choice!) <span style=\"color:red\">  1 pt</span>"
   ]
  },
  {
   "cell_type": "code",
   "execution_count": null,
   "id": "4062588a-4e76-481c-a16d-b5d0ba7c48e8",
   "metadata": {},
   "outputs": [],
   "source": []
  },
  {
   "cell_type": "markdown",
   "id": "4518e21f-6cf4-4d0d-b91b-e2d2e4307144",
   "metadata": {},
   "source": [
    "### Plot (use Cartopy) the tornado paths on a smaller domain coinciding with your state <span style=\"color:red\">  3 pts</span>"
   ]
  },
  {
   "cell_type": "code",
   "execution_count": null,
   "id": "0a7b85bc-45aa-433a-b543-8ed7be5b5b55",
   "metadata": {},
   "outputs": [],
   "source": []
  },
  {
   "cell_type": "markdown",
   "id": "de3b571e-b1d3-4dc4-9feb-81e082017344",
   "metadata": {},
   "source": [
    "### Use the key method to dump the years <span style=\"color:red\">  1 pt</span>"
   ]
  },
  {
   "cell_type": "code",
   "execution_count": null,
   "id": "b72f7a99-4668-4776-9773-20a2ddeb870c",
   "metadata": {},
   "outputs": [],
   "source": []
  },
  {
   "cell_type": "markdown",
   "id": "7905621c-dd0f-4079-b9b6-87cc2065a33e",
   "metadata": {},
   "source": [
    "### Using the data from the state you selected above, filter the data for a single year (your choice!) <span style=\"color:red\">  1 pt</span>"
   ]
  },
  {
   "cell_type": "code",
   "execution_count": null,
   "id": "273dc8db-235d-4209-b05f-b3894c7bc14e",
   "metadata": {},
   "outputs": [],
   "source": []
  },
  {
   "cell_type": "markdown",
   "id": "a6b320d6-48dc-46cf-bddb-cd9fe8afd069",
   "metadata": {},
   "source": [
    "### Using your zoomed in state map from above, use Cartopy to plot the single year data! <span style=\"color:red\">  3 pt</span>\n",
    "Use a Lambert Conformal Projection and add the following features: lakes, states and coastlines."
   ]
  },
  {
   "cell_type": "code",
   "execution_count": null,
   "id": "5fdb0487-155f-42c2-be6d-d2ee4f1ce454",
   "metadata": {},
   "outputs": [],
   "source": []
  },
  {
   "cell_type": "markdown",
   "id": "5cdf68f9-0754-4fa1-8e73-7c31aff815e0",
   "metadata": {},
   "source": [
    "## DRL Do something fun with the data!"
   ]
  },
  {
   "cell_type": "code",
   "execution_count": null,
   "id": "0389a1f9-0a54-4116-b098-cdc433b97ad5",
   "metadata": {},
   "outputs": [],
   "source": []
  }
 ],
 "metadata": {
  "kernelspec": {
   "display_name": "Python 3 (ipykernel)",
   "language": "python",
   "name": "python3"
  },
  "language_info": {
   "codemirror_mode": {
    "name": "ipython",
    "version": 3
   },
   "file_extension": ".py",
   "mimetype": "text/x-python",
   "name": "python",
   "nbconvert_exporter": "python",
   "pygments_lexer": "ipython3",
   "version": "3.12.2"
  }
 },
 "nbformat": 4,
 "nbformat_minor": 5
}
