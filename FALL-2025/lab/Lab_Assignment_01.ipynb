{
 "cells": [
  {
   "attachments": {},
   "cell_type": "markdown",
   "id": "41b8b32e-956f-4b00-8904-a399bbd903b3",
   "metadata": {},
   "source": [
    "## Lab Assignment #1: Weather Widgets \n",
    "\n",
    "#### Due before next lab!  Same policy as course (Canvas and Jetstream)"
   ]
  },
  {
   "cell_type": "markdown",
   "id": "b1d37663-ec37-40ff-b828-0ca1f9f86cf2",
   "metadata": {},
   "source": [
    "#### Write a Latex equation for the Heat Index \n",
    "- Be careful on the units!\n",
    "- The equation contains two free variables (temperature and RH)\n",
    "- See https://www.geeksforgeeks.org/physics/heat-index-formula/"
   ]
  },
  {
   "attachments": {},
   "cell_type": "markdown",
   "id": "40a38743-1972-4053-8bf1-728b312292a2",
   "metadata": {},
   "source": []
  },
  {
   "cell_type": "markdown",
   "id": "212b892c-1323-4f2e-ac93-731b525d8f07",
   "metadata": {
    "editable": true,
    "slideshow": {
     "slide_type": ""
    },
    "tags": []
   },
   "source": [
    "#### Create a Heat Index Widget"
   ]
  },
  {
   "cell_type": "code",
   "execution_count": null,
   "id": "c90934d9-65e5-468e-8dd9-3e1ea6289250",
   "metadata": {},
   "outputs": [],
   "source": []
  },
  {
   "cell_type": "markdown",
   "id": "4e789f80-74ec-4022-8e6a-e4fd92bdc8a3",
   "metadata": {},
   "source": [
    "#### Check your widget to make sure it is correct!\n",
    "Options include\n",
    "- Hand Calculator\n",
    "- Online Calculator\n",
    "- Online heat index graphic"
   ]
  },
  {
   "cell_type": "code",
   "execution_count": null,
   "id": "6b8e83ed-2290-4e4c-9d6b-77aa6bb26f37",
   "metadata": {},
   "outputs": [],
   "source": []
  }
 ],
 "metadata": {
  "kernelspec": {
   "display_name": "Python 3 (ipykernel)",
   "language": "python",
   "name": "python3"
  },
  "language_info": {
   "codemirror_mode": {
    "name": "ipython",
    "version": 3
   },
   "file_extension": ".py",
   "mimetype": "text/x-python",
   "name": "python",
   "nbconvert_exporter": "python",
   "pygments_lexer": "ipython3",
   "version": "3.12.2"
  }
 },
 "nbformat": 4,
 "nbformat_minor": 5
}
