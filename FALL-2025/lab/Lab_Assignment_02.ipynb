{
 "cells": [
  {
   "cell_type": "markdown",
   "id": "51117425",
   "metadata": {},
   "source": [
    "# Lab Assignment #2: Advanced Python Data Structures & NumPy Arrays\n",
    "### This lab assignment is worth <span style=\"color:red\">20 pts</span>\n",
    "\n",
    "### Objective\n",
    "Develop proficiency in Python’s core data structures and NumPy arrays, with a focus on mutability, indexing, and performance. Apply these concepts to structured data relevant to scientific computing. Please use f-string friendly printing!"
   ]
  },
  {
   "cell_type": "markdown",
   "id": "2c5d34f9",
   "metadata": {},
   "source": [
    "## 🔹 Part 1: Deep Dive into Lists and Indexing\n",
    "1. Create a list of KMLB daily maximum temperature readings (in °F) for the past week\n",
    "   - see https://www.weather.gov/wrh/Climate?wfo=mlb \n",
    "2. Write a function to:\n",
    "   - Convert the list to Celsius.\n",
    "   - Convert the list to Kelvin.\n",
    "3. Create a list of KMLB daily minimum temperature readings (in °F) for the past week\n",
    "4. Calculate the difference (max-min) of the two lists and store them in a separate list\n",
    "   - Print the index of the maximum difference\n",
    "   - Use this index to print the corresponding max and min values\n",
    "5. Calculate the observed daily average (in °F) temperatures for the past week\n",
    "6. Calculate the climatological average (in °F) temperatures for the past week (Hint: You will need to create a 3rd list)\n",
    "7. Create a list of corresponding KMLB dates for the past week\n",
    "   - Use the index calculated in #4 to print the date\n",
    "8. Create a function to calculate the Cooling Degree Days(CDD) for the past week.\n",
    "9. Calculate the sum of the CDD for the past week\n",
    "   "
   ]
  },
  {
   "cell_type": "code",
   "execution_count": 11,
   "id": "b76bc2ee",
   "metadata": {},
   "outputs": [],
   "source": [
    "# Your code starts here. Please number each problem so that it is clear! You can put them in separate cells if you like."
   ]
  },
  {
   "cell_type": "markdown",
   "id": "0cc43d8d",
   "metadata": {},
   "source": [
    "## 🔹 Part 2: NumPy Arrays and Scientific Computation\n",
    "Compare the Numpy performance and syntax with equivalent list-based operations. You must use Numpy arrays throughout this part of the assignment. Please use f-string friendly printing!"
   ]
  },
  {
   "cell_type": "markdown",
   "id": "d6819fe6-a514-4819-82a7-dcf75404d27d",
   "metadata": {},
   "source": [
    "1. Convert the list in #1 above to a numpy array\n",
    "2. Use the functions defined above in #2 to \n",
    "   - Convert the numpy array to Celsius.\n",
    "   - Convert the numpy array to Kelvin.\n",
    "3. Convert the list in #3 above to a numpy array\n",
    "4. Calculate the difference (max-min, °F) of the two numpy arrays and store them in a separate numpy array\n",
    "   - Print the index of the maximum difference\n",
    "   - Use this index to print the corresponding max and min values\n",
    "5. Calculate the observed daily average (in °F) temperatures for the past week\n",
    "6. Calculate the climatological average (in °F) temperatures for the past week \n",
    "7. Convert the list in #7 above to a numpy array\n",
    "   - Use the index calculated in #4 to print the date\n",
    "8. Use the function in #8 above to calculate the Cooling Degree Days(CDD) for the past week.\n",
    "9. Calculate the sum of the CDD for the past week"
   ]
  },
  {
   "cell_type": "code",
   "execution_count": 9,
   "id": "4fd99002-f2aa-45e9-8904-d4961164de7c",
   "metadata": {},
   "outputs": [],
   "source": [
    "#Import library\n"
   ]
  },
  {
   "cell_type": "code",
   "execution_count": 12,
   "id": "e8c6faf9-e843-459b-b35c-cad3d1b8cfce",
   "metadata": {},
   "outputs": [],
   "source": [
    "#Your code starts here. Please number each problem so that it is clear! You can put them in separate cells if you like."
   ]
  }
 ],
 "metadata": {
  "kernelspec": {
   "display_name": "Python 3 (ipykernel)",
   "language": "python",
   "name": "python3"
  },
  "language_info": {
   "codemirror_mode": {
    "name": "ipython",
    "version": 3
   },
   "file_extension": ".py",
   "mimetype": "text/x-python",
   "name": "python",
   "nbconvert_exporter": "python",
   "pygments_lexer": "ipython3",
   "version": "3.12.2"
  }
 },
 "nbformat": 4,
 "nbformat_minor": 5
}
