{
 "cells": [
  {
   "cell_type": "markdown",
   "id": "8b284ae8",
   "metadata": {},
   "source": [
    "# Lab Assignment 07: Daily Climate Data Analysis: <span style=\"color:red\">20 pts</span>\n",
    "\n",
    "This lab guides you through analyzing daily climate data from NOAA's NClimGrid dataset using Python and `xarray`. You will explore temperature and precipitation variables, identify extremes, and visualize spatial patterns."
   ]
  },
  {
   "cell_type": "markdown",
   "id": "21b9a57b",
   "metadata": {},
   "source": [
    "## Step 1: Open the Dataset\n",
    "Use `xarray` to open the NOAA NClimGrid dataset from the THREDDS data server."
   ]
  },
  {
   "cell_type": "code",
   "execution_count": null,
   "id": "2e3db1b6",
   "metadata": {},
   "outputs": [],
   "source": [
    "import xarray as xr\n",
    "\n",
    "# Open dataset\n",
    "ds = xr.open_dataset('https://www.ncei.noaa.gov/thredds/dodsC/nclimgrid-daily')"
   ]
  },
  {
   "cell_type": "markdown",
   "id": "6277d0df",
   "metadata": {},
   "source": [
    "## Step 2: Explore the Dataset"
   ]
  },
  {
   "cell_type": "markdown",
   "id": "f6885da8-8eaf-450c-b656-772d20a4d399",
   "metadata": {},
   "source": [
    "*How many variables are in the data set (pull out the keys)?*\n",
    "\n"
   ]
  },
  {
   "cell_type": "code",
   "execution_count": null,
   "id": "5d38c458-ca6f-48fd-8940-4be462116f05",
   "metadata": {},
   "outputs": [],
   "source": []
  },
  {
   "cell_type": "markdown",
   "id": "003ae86d-29e4-4899-a02c-744a102ff49d",
   "metadata": {},
   "source": [
    "*Use the key method to query the dimensions and shape of maximum temperatures*"
   ]
  },
  {
   "cell_type": "code",
   "execution_count": null,
   "id": "ece8b59a-13e9-4a88-872b-d82ca59626eb",
   "metadata": {},
   "outputs": [],
   "source": []
  },
  {
   "cell_type": "markdown",
   "id": "49f50d93",
   "metadata": {},
   "source": [
    "## Step 3: Identify Temperature Extremes"
   ]
  },
  {
   "cell_type": "markdown",
   "id": "62c379e2-0614-4f9d-9585-cae76195fcd3",
   "metadata": {},
   "source": [
    "*Use the `.isel` method to select a specific day and extract (use the key method) the maximum and minimum temperatures **for that day only**. Make sure you assign variable names for each.*"
   ]
  },
  {
   "cell_type": "code",
   "execution_count": null,
   "id": "cb86874c-e7ed-4f7f-a70c-4a1e8f486958",
   "metadata": {},
   "outputs": [],
   "source": []
  },
  {
   "cell_type": "markdown",
   "id": "2805b812-2c5a-461c-9ba9-51f3f9f3db71",
   "metadata": {},
   "source": [
    "*Use the `.where` method to determine the maximum of maximum temperatures (`tmax`) and the minimum of minimum temperatures (`tmin`). Use an f-string to print these two values*"
   ]
  },
  {
   "cell_type": "code",
   "execution_count": null,
   "id": "c4db7504-040f-4d64-8ded-e2f0df015a7e",
   "metadata": {},
   "outputs": [],
   "source": []
  },
  {
   "cell_type": "markdown",
   "id": "41f62749",
   "metadata": {},
   "source": [
    "## Step 4: Locate Temperature Extremes"
   ]
  },
  {
   "cell_type": "markdown",
   "id": "29c24c80-e044-487a-a476-bc1aeb60d5d0",
   "metadata": {},
   "source": [
    "*Find the two latitude/longitude pairs where the highest and lowest temperatures occurred. Use an f-string to print these two values (**do not** hardwire your answers - extract the values and then use them in your print statememnt!). Hint: You can use the xarray method `.item` method to extract (liberate) the values from their oppressive arrays!*"
   ]
  },
  {
   "cell_type": "code",
   "execution_count": null,
   "id": "0e588ff3-a5a2-47af-8fc3-d021d9a86d82",
   "metadata": {},
   "outputs": [],
   "source": []
  },
  {
   "cell_type": "markdown",
   "id": "030a50b8",
   "metadata": {},
   "source": [
    "## Step 5: Format the Date/Time String"
   ]
  },
  {
   "cell_type": "markdown",
   "id": "9a18b010-517d-4f74-8c49-7a7161830793",
   "metadata": {},
   "source": [
    "*Extract the time (use the key method) and format the date you are using as`YYYY-MM-DDTHH:MM:SS`. Hint: You can use the combined datetime/xarray methods `.dt.year[0].item()` to extract (year, month, day, hour, minute or second).*"
   ]
  },
  {
   "cell_type": "code",
   "execution_count": null,
   "id": "25829c9a-bcf0-4f40-a797-83cd4d0d8d4e",
   "metadata": {},
   "outputs": [],
   "source": []
  }
 ],
 "metadata": {
  "kernelspec": {
   "display_name": "Python 3 (ipykernel)",
   "language": "python",
   "name": "python3"
  },
  "language_info": {
   "codemirror_mode": {
    "name": "ipython",
    "version": 3
   },
   "file_extension": ".py",
   "mimetype": "text/x-python",
   "name": "python",
   "nbconvert_exporter": "python",
   "pygments_lexer": "ipython3",
   "version": "3.12.2"
  }
 },
 "nbformat": 4,
 "nbformat_minor": 5
}
