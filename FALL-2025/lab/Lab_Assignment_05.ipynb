{
 "cells": [
  {
   "cell_type": "markdown",
   "id": "97addab8",
   "metadata": {},
   "source": [
    "# 🌊 ESPI ENSO Index Lab <span style=\"color:red\">20 pts</span>\n",
    "\n",
    "In this lab, you'll explore the El Niño–Southern Oscillation (ENSO) using the ESPI index. The dataset contains monthly ESPI values from 1979 to 2023."
   ]
  },
  {
   "cell_type": "code",
   "execution_count": 3,
   "id": "cbd2675e-1334-48a1-b247-344c28b0e0c2",
   "metadata": {},
   "outputs": [],
   "source": [
    "#Import the numpy library here\n"
   ]
  },
  {
   "attachments": {},
   "cell_type": "markdown",
   "id": "3a56cf1f-112b-4a79-9984-cc8e6ea8db02",
   "metadata": {},
   "source": [
    "#### ❓ Question 1: Open the data set with the numpy loadxt function and print the data to the screen <span style=\"color:red\">2.5 pts</span>"
   ]
  },
  {
   "cell_type": "code",
   "execution_count": 9,
   "id": "6399a97d-d655-4575-abfc-6ae4075b41e8",
   "metadata": {},
   "outputs": [],
   "source": []
  },
  {
   "cell_type": "markdown",
   "id": "1b229e28",
   "metadata": {},
   "source": [
    "#### ❓ Question 2: Extract ESPI values for a specific year <span style=\"color:red\">5 pts</span>\n",
    "- Extract all 12 monthly ESPI values for a given command line **input** year.\n",
    "- Extract and store the months from the file header (use genfromtxt to do this not loadtxt!)\n",
    "- Extract and store the years from the file "
   ]
  },
  {
   "cell_type": "code",
   "execution_count": null,
   "id": "a59fd9b4",
   "metadata": {},
   "outputs": [],
   "source": []
  },
  {
   "cell_type": "markdown",
   "id": "aa76e6b4",
   "metadata": {},
   "source": [
    "#### ❓ Question 3: Compute the mean and standard deviation of the ESPI value for each month (all years) and each year <span style=\"color:red\">10 pts</span>\n",
    "- Which months tend to show stronger ENSO signals?\n",
    "- Which years  tend to show stronger ENSO signals?"
   ]
  },
  {
   "cell_type": "code",
   "execution_count": null,
   "id": "d37fc2c5-1147-4078-9da1-d4ff0dd20250",
   "metadata": {},
   "outputs": [],
   "source": []
  },
  {
   "cell_type": "markdown",
   "id": "481d4311",
   "metadata": {},
   "source": [
    "#### ❓ Question 4: Identify the year and month with the highest average ESPI <span style=\"color:red\">2.5 pts</span>\n",
    "Find the year with the highest annual average ESPI. Was this a strong El Niño year?"
   ]
  },
  {
   "cell_type": "code",
   "execution_count": null,
   "id": "9fe8927d",
   "metadata": {},
   "outputs": [],
   "source": []
  }
 ],
 "metadata": {
  "kernelspec": {
   "display_name": "Python 3 (ipykernel)",
   "language": "python",
   "name": "python3"
  },
  "language_info": {
   "codemirror_mode": {
    "name": "ipython",
    "version": 3
   },
   "file_extension": ".py",
   "mimetype": "text/x-python",
   "name": "python",
   "nbconvert_exporter": "python",
   "pygments_lexer": "ipython3",
   "version": "3.12.2"
  }
 },
 "nbformat": 4,
 "nbformat_minor": 5
}
