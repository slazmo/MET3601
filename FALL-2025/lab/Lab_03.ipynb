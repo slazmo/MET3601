{
 "cells": [
  {
   "cell_type": "markdown",
   "id": "7be22682",
   "metadata": {},
   "source": [
    "### 🔬 Lab Assignment #3:  \n",
    "### This lab assignment is worth <span style=\"color:red\">30 pts</span> and due by the next class!\n",
    "\n",
    "### Objective\n",
    "This notebook contains lab exercises based on class Lectures 3 & 4 covering Dictionaries, Sets, NumPy Arrays, and Control Flow with If Statements."
   ]
  },
  {
   "cell_type": "markdown",
   "id": "ee79618f",
   "metadata": {},
   "source": [
    "## Part 1: Working with Dictionaries\n",
    "**Objective:** Understand dictionary creation, access, and manipulation."
   ]
  },
  {
   "cell_type": "markdown",
   "id": "2d1dbebf",
   "metadata": {},
   "source": [
    "**a.)** Create a Weather Dictionary\n",
    "Create a dictionary named `weather_data` with keys: `'temperature'`, `'humidity'`, and `'wind_speed'`. Assign each key a list of 5 values."
   ]
  },
  {
   "cell_type": "code",
   "execution_count": null,
   "id": "59797d03",
   "metadata": {},
   "outputs": [],
   "source": []
  },
  {
   "cell_type": "markdown",
   "id": "fd97fcfd",
   "metadata": {},
   "source": [
    "**b.)** Access and Modify\n",
    "- Print the value associated with `'humidity'`.\n",
    "- Add a new key `'pressure'` with a list of 5 values.\n",
    "- Use `.keys()` and `.values()` to display all keys and values."
   ]
  },
  {
   "cell_type": "code",
   "execution_count": null,
   "id": "8af3fce9",
   "metadata": {},
   "outputs": [],
   "source": []
  },
  {
   "cell_type": "markdown",
   "id": "f59d17fe",
   "metadata": {},
   "source": [
    "**c.)** Write a function that takes a dictionary and a key, and returns the average of the values associated with that key."
   ]
  },
  {
   "cell_type": "code",
   "execution_count": null,
   "id": "e86e4c1a",
   "metadata": {},
   "outputs": [],
   "source": []
  },
  {
   "cell_type": "markdown",
   "id": "92812686",
   "metadata": {},
   "source": [
    "## Part 2: Exploring Sets\n",
    "**Objective:** Learn how sets work and how to perform set operations."
   ]
  },
  {
   "cell_type": "markdown",
   "id": "1f66f295",
   "metadata": {},
   "source": [
    "**a.)** Create two distinct lists that are comprised of the hurricane names from the 2012 and 2018 seasons (visit NHC or use an AI engine), respectively. Convert it to a set and print the result."
   ]
  },
  {
   "cell_type": "markdown",
   "id": "63f93a4c",
   "metadata": {},
   "source": [
    "\n",
    "**b.)** Print the following:\n",
    "- The intersection of the two sets.\n",
    "- The union of the two sets.\n",
    "- The difference between the sets.\n",
    "\n",
    "**c.)** Print the length (# of elements) of each set above\n",
    "\n",
    "**d.)** Use your output above to answer the following questions\n",
    "\n",
    "*Are the two seasons similar? Explain briefly (visit the NHC to explain your answer!)*\n",
    "\n",
    "\n",
    "*Which, if any, storm names were retired?*\n",
    "\n"
   ]
  },
  {
   "cell_type": "code",
   "execution_count": null,
   "id": "fbdcf068",
   "metadata": {},
   "outputs": [],
   "source": []
  },
  {
   "cell_type": "markdown",
   "id": "eaa1f834-e437-4a06-a51f-c8dd65b61785",
   "metadata": {},
   "source": [
    "## Part 3: NumPy Arrays\n",
    "**Objective:** Use NumPy to create and manipulate arrays."
   ]
  },
  {
   "cell_type": "markdown",
   "id": "9fa9e670",
   "metadata": {},
   "source": [
    "**a.)** Create a 2D NumPy array and calculate the mean of each row and column. You can check the dimension using the 'ndim' function in the "
   ]
  },
  {
   "cell_type": "code",
   "execution_count": null,
   "id": "dc9a4057-f6fb-4888-86b8-6f867973d538",
   "metadata": {},
   "outputs": [],
   "source": []
  },
  {
   "cell_type": "markdown",
   "id": "e17f7ff8",
   "metadata": {},
   "source": [
    "## Part 4: Control Flow with If Statements and Simple Indexing\n",
    "**Objective:** Practice conditional logic using `if`, `elif`, and `else`."
   ]
  },
  {
   "cell_type": "markdown",
   "id": "79c40386",
   "metadata": {},
   "source": [
    "**a.)** Convert your 2012 hurricane set above to a list and print it out.\n",
    "\n",
    "**b.)** Use the 'input' command to check whether there is a hurricane in the list that begins or ends with the input character. If there isn't, then indicate this in a print statement and if there are then indicate how many end with that letter. Use f'f-string' formatting for your print statements. "
   ]
  },
  {
   "cell_type": "code",
   "execution_count": null,
   "id": "39b15d41-ee04-4708-b121-0064a5108999",
   "metadata": {},
   "outputs": [],
   "source": []
  }
 ],
 "metadata": {
  "kernelspec": {
   "display_name": "Python 3 (ipykernel)",
   "language": "python",
   "name": "python3"
  },
  "language_info": {
   "codemirror_mode": {
    "name": "ipython",
    "version": 3
   },
   "file_extension": ".py",
   "mimetype": "text/x-python",
   "name": "python",
   "nbconvert_exporter": "python",
   "pygments_lexer": "ipython3",
   "version": "3.12.2"
  }
 },
 "nbformat": 4,
 "nbformat_minor": 5
}
