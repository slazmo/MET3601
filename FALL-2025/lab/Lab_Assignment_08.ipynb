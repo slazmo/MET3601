{
 "cells": [
  {
   "cell_type": "markdown",
   "id": "e595bb48",
   "metadata": {},
   "source": [
    "# Pandas: Arctic Sea Ice Extent  <span style=\"color:red\">  25 pts</span>\n",
    "This notebook downloads and analyzes the monthly Arctic sea ice extent data in CSV format from NSIDC. You'll learn how to load, clean, and composite the data."
   ]
  },
  {
   "cell_type": "markdown",
   "id": "3012336c",
   "metadata": {},
   "source": [
    "We will use the NSIDC Sea Ice extent CSV files for Arctic monthly extent (there are 12 files, 1 for each month). The dataset includes monthly sea ice extent from 1979 to the present and are located at https://noaadata.apps.nsidc.org/NOAA/G02135/north/monthly/data/. "
   ]
  },
  {
   "cell_type": "markdown",
   "id": "08c57801-a8d8-4de5-8f99-8e48cee911ce",
   "metadata": {},
   "source": [
    "**1)** Open one of the monthly data sets (.csv), at the site above. Use the Pandas read_csv method and dump the dataframe to the screen <span style=\"color:red\">2.5 pts</span> \n",
    "**DO NOT DOWNLOAD THE DATA!** Just point to the `url + filename`"
   ]
  },
  {
   "cell_type": "code",
   "execution_count": null,
   "id": "c41b4274",
   "metadata": {},
   "outputs": [],
   "source": []
  },
  {
   "cell_type": "markdown",
   "id": "66aa58c2-301c-4590-aca3-e271af8b5c18",
   "metadata": {},
   "source": [
    "**2)** Write a nested `for loop` that sequentially opens each of the 12 files. Print out the file names and the first 5 lines of each file. <span style=\"color:red\">7.5 pts</span>"
   ]
  },
  {
   "cell_type": "code",
   "execution_count": null,
   "id": "0bf97f66-7759-4f87-9564-71a8ffee7599",
   "metadata": {},
   "outputs": [],
   "source": []
  },
  {
   "cell_type": "markdown",
   "id": "3aa47a8b-52a0-4a9c-855f-796ef31507ab",
   "metadata": {},
   "source": [
    "**3)** Use the `for loop` method to create a *single* Pandas data frame that combines all 12 months. The header (and data) should consist of the following information. <span style=\"color:red\">10 pts</span>       "
   ]
  },
  {
   "cell_type": "raw",
   "id": "55532b11-a644-4bb3-8569-32204d61feed",
   "metadata": {},
   "source": [
    "year  jan   extent    area    feb   extent    area   ...   dec   extent    area"
   ]
  },
  {
   "cell_type": "code",
   "execution_count": null,
   "id": "ad711ea6-794c-4f0d-ba35-a867ae0a73ae",
   "metadata": {},
   "outputs": [],
   "source": []
  },
  {
   "cell_type": "markdown",
   "id": "d67710b1-ada9-4121-9127-ff4ebc9fbf87",
   "metadata": {},
   "source": [
    "**4)** Replace missing data with `NaN` <span style=\"color:red\">2.5 pts</span>"
   ]
  },
  {
   "cell_type": "code",
   "execution_count": null,
   "id": "a2eb4d55-1aa4-443b-ac8e-4f1d9ab9101c",
   "metadata": {},
   "outputs": [],
   "source": []
  },
  {
   "cell_type": "markdown",
   "id": "70640843",
   "metadata": {},
   "source": [
    "**5)** Use Pandas to save the cleaned/composite data to a local CSV file for future use! <span style=\"color:red\">2.5 pts</span> "
   ]
  },
  {
   "cell_type": "code",
   "execution_count": null,
   "id": "a9e397d8",
   "metadata": {},
   "outputs": [],
   "source": []
  }
 ],
 "metadata": {
  "kernelspec": {
   "display_name": "Python 3 (ipykernel)",
   "language": "python",
   "name": "python3"
  },
  "language_info": {
   "codemirror_mode": {
    "name": "ipython",
    "version": 3
   },
   "file_extension": ".py",
   "mimetype": "text/x-python",
   "name": "python",
   "nbconvert_exporter": "python",
   "pygments_lexer": "ipython3",
   "version": "3.12.2"
  }
 },
 "nbformat": 4,
 "nbformat_minor": 5
}
