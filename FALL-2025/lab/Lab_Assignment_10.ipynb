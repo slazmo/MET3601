{
 "cells": [
  {
   "cell_type": "markdown",
   "id": "f79202b9",
   "metadata": {},
   "source": [
    "\n",
    "# Lifted Condensation Level (LCL) Calculation <span style=\"color:red\">  25 pts</span>\n",
    "\n",
    "This notebook calculates the Lifted Condensation Level (LCL) using an iterative approach. Given a known mixing ratio and potential temperature, we decrease pressure incrementally and compute the temperature until the air parcel becomes saturated.\n",
    "\n",
    "## Constants and Assumptions\n",
    "- Potential temperature (θ) and mixing ratio (w) are known.\n",
    "- Pressure decreases from surface (1000 hPa) in steps.\n",
    "- Saturation occurs when actual vapor pressure equals saturation vapor pressure.\n"
   ]
  },
  {
   "cell_type": "markdown",
   "id": "4277ea6e-8b2a-470a-90e5-3be5398e1e13",
   "metadata": {},
   "source": [
    "Import Libraries"
   ]
  },
  {
   "cell_type": "code",
   "execution_count": null,
   "id": "c3564005-7b02-468a-8e32-315096399318",
   "metadata": {},
   "outputs": [],
   "source": []
  },
  {
   "cell_type": "code",
   "execution_count": null,
   "id": "546732c3",
   "metadata": {},
   "outputs": [],
   "source": [
    "# Relevant Thermodynamic Constants\n",
    "Rd = 287.0       # Gas constant for dry air [J/kg·K]\n",
    "cp = 1004.0      # Specific heat at constant pressure [J/kg·K]\n",
    "Lv = 2.5e6       # Latent heat of vaporization [J/kg]\n",
    "Rv = 461.5       # Gas constant for water vapor [J/kg·K]"
   ]
  },
  {
   "cell_type": "markdown",
   "id": "f4d8fa5f-92b2-4503-809b-7b2760d93c21",
   "metadata": {},
   "source": [
    "**1)** Assume that we are lifting a surface air parcel ($p_0$= 1000 hPa) with a mixing ratio of 12 g/kg and temperature of 300 K. Calculate the LCL (do not use MetPy for this part of the problem). Hint, you will need to define individual functions for the saturation and actual vapor pressures so that you can check for parcel saturation. You will also need one for the dewpoint for plotting. You will need to increment with respect to pressure (i.e., for loop) starting at 1000 hPa (I recommend 1 hPa) ascend a dry adiabat (use Poisson's Eqn.). "
   ]
  },
  {
   "cell_type": "code",
   "execution_count": null,
   "id": "52659b59-556e-4d29-be32-afaa62433a1d",
   "metadata": {},
   "outputs": [],
   "source": [
    "# Inputs\n",
    "theta = 300.0    # Potential temperature in K\n",
    "w     = 0.012        # Mixing ratio in kg/kg\n",
    "p0    = 1000.0      # Starting pressure in hPa"
   ]
  },
  {
   "cell_type": "markdown",
   "id": "53ef2d74-c360-4775-9363-a5e9edeaec52",
   "metadata": {},
   "source": [
    "####  Define your functions here..."
   ]
  },
  {
   "cell_type": "code",
   "execution_count": null,
   "id": "2a017859-3dc7-4607-9274-d04e93aab885",
   "metadata": {},
   "outputs": [],
   "source": []
  },
  {
   "cell_type": "markdown",
   "id": "a137fb1b-7bc4-4c42-8b52-c6b9f9849742",
   "metadata": {},
   "source": [
    "#### Calculate the LCL here "
   ]
  },
  {
   "cell_type": "code",
   "execution_count": null,
   "id": "6276a6c1-1a30-4be9-976e-e4be575b556f",
   "metadata": {},
   "outputs": [],
   "source": [
    "\n",
    "\n",
    "\n",
    "\n"
   ]
  },
  {
   "cell_type": "markdown",
   "id": "76619bc4-7239-4a91-a9c3-84eeafd72cb6",
   "metadata": {},
   "source": [
    "**a.)** Plot the parcel ascent (pressue in hPa on the y-axis and temerature °C on the x), and add points (symbols) for the sfc dew pt and temperature as well as the lcl temperature. Add a dashed horizontal line for the lcl level. "
   ]
  },
  {
   "cell_type": "code",
   "execution_count": null,
   "id": "c1d92225-f2a2-41c3-8e52-0aabd6564b6f",
   "metadata": {},
   "outputs": [],
   "source": []
  },
  {
   "cell_type": "markdown",
   "id": "c56cce83-7bb5-4afd-a492-f8a17c36abb8",
   "metadata": {},
   "source": [
    "**b.)** Use MetPy mpalc.lcl to do the same thing to check your answer!"
   ]
  },
  {
   "cell_type": "code",
   "execution_count": null,
   "id": "d3c4455c-0e46-4d23-ad7d-2be09183e598",
   "metadata": {},
   "outputs": [],
   "source": []
  },
  {
   "cell_type": "markdown",
   "id": "40733601-79e3-49b3-bffa-d395ef3c0ceb",
   "metadata": {},
   "source": [
    "**c.)** Use the skewT provided to graph the sfc parcel ascent to the LCL. Use Powerpoint to annotate the figure with the following: 1) surface temperature, 2) surface dew point, 3) parcel ascent and add a horizontal line at the pressure level of the LCL. Perform a screen capture and import the figure in the cell below!"
   ]
  },
  {
   "cell_type": "markdown",
   "id": "816503af-5cb2-4da0-9b76-c9efe3ecdf0f",
   "metadata": {},
   "source": []
  }
 ],
 "metadata": {
  "kernelspec": {
   "display_name": "Python 3 (ipykernel)",
   "language": "python",
   "name": "python3"
  },
  "language_info": {
   "codemirror_mode": {
    "name": "ipython",
    "version": 3
   },
   "file_extension": ".py",
   "mimetype": "text/x-python",
   "name": "python",
   "nbconvert_exporter": "python",
   "pygments_lexer": "ipython3",
   "version": "3.12.2"
  }
 },
 "nbformat": 4,
 "nbformat_minor": 5
}
