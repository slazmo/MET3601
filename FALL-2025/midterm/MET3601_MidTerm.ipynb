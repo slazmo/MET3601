{
 "cells": [
  {
   "cell_type": "raw",
   "id": "44a6b96e-3dfb-4da9-b768-528315d653c6",
   "metadata": {},
   "source": [
    "Add your name here:"
   ]
  },
  {
   "cell_type": "markdown",
   "id": "056130b6-aab8-4a55-9dc9-3b8f7ab80a13",
   "metadata": {},
   "source": [
    "# MET 3601 Midterm Exam 2025\n",
    "\n",
    "There are three sections in this notebook **1)** `multiple choice` <span style=\"color:red\">(66 pts)</span>, **2)** `fix-me` <span style=\"color:red\">(24 pts)</span>, and **3)** `simple coding` <span style=\"color:red\">(10 pts)</span> for a total of <span style=\"color:red\">(100 pts)</span>.\n",
    "\n",
    "- Graduate students have a separate coding problem\n",
    "\n",
    "- A reminder that you are on the honor code. This includes both **plagiarism** and **cheating on exams**! You may **NOT** use an AI engine on this exam! If you are caught doing this during the exam, it is an automatic zero!\n",
    "\n",
    "- The exam is open book, open (Jupyter) notebook. **It is NOT open web - no browsing allowed!**\n",
    "\n",
    "- You must turn in a completed notebook, renamed as\n",
    "\n",
    "        `MET3601_MidTerm_lastname.ipynb` in both JupyterHub and Canvas\n",
    "\n",
    "  <br>\n",
    "\n",
    "- You may use a \"study-guide\" (in the form of a Jupyter notebook) on jetstream.  \n",
    "\n",
    "- Only one browser window is allowed (jetstream) to be open on your laptop\n",
    "\n",
    "- This exam is due at the end of the class period, 12:15 p.m. on Wednesday October 8, 2025.\n",
    "\n",
    "**No late exams will be accepted - upload your exam to Canvas!**"
   ]
  },
  {
   "cell_type": "markdown",
   "id": "12c41b1d",
   "metadata": {},
   "source": [
    "# Multiple Choice Questions <span style=\"color:green\">(3 pts each)</span>\n",
    "\n",
    "Please answer the following multiple-choice questions by typing the **letter** of the correct answer (e.g., `A`, `B`, `C`, or `D`) in the cell below each question.\n",
    "\n",
    "Each answer cell is autograded using nbgrader. Make sure to only enter the letter corresponding to your choice.\n"
   ]
  },
  {
   "cell_type": "markdown",
   "id": "200a2101",
   "metadata": {},
   "source": [
    "## Lecture 1: Basic Python Syntax 1"
   ]
  },
  {
   "cell_type": "markdown",
   "id": "abbe47c3",
   "metadata": {},
   "source": [
    "**Q1. What does it mean that Python is an interpreted language?**\n",
    "\n",
    "- A. It compiles code before execution\n",
    "- B. It reads code line-by-line and executes it\n",
    "- C. It executes machine code generated from the entire source code\n",
    "- D. It requires a separate runtime environment\n"
   ]
  },
  {
   "cell_type": "code",
   "execution_count": null,
   "id": "a4c8a025",
   "metadata": {
    "nbgrader": {
     "grade": true,
     "grade_id": "q1",
     "locked": false,
     "points": 1,
     "solution": true
    }
   },
   "outputs": [],
   "source": [
    "# Type the letter of the correct answer in the space below (e.g., A, B, C, D)\n"
   ]
  },
  {
   "cell_type": "markdown",
   "id": "7eacf4af",
   "metadata": {},
   "source": [
    "**Q2. What is object-oriented programming and how does Python use it?**\n",
    "\n",
    "- A. Programming based on attributes and code-based procedures (methods)\n",
    "- B. It uses loops and conditions to control flow\n",
    "- C. It avoids using functions\n",
    "- D. It only works with numerical data\n"
   ]
  },
  {
   "cell_type": "code",
   "execution_count": null,
   "id": "904e3d91",
   "metadata": {
    "nbgrader": {
     "grade": true,
     "grade_id": "q2",
     "locked": false,
     "points": 1,
     "solution": true
    }
   },
   "outputs": [],
   "source": [
    "# Type the letter of the correct answer in the space below (e.g., A, B, C, D)\n"
   ]
  },
  {
   "cell_type": "markdown",
   "id": "48d58a10",
   "metadata": {},
   "source": [
    "**Q3. What are reserved words in Python and why should they be avoided when naming variables?**\n",
    "\n",
    "- A. They are used for mathematical operations\n",
    "- B. They are user-defined keywords\n",
    "- C. They are part of Python’s syntax and cannot be used as variable names\n",
    "- D. They are optional keywords for advanced users\n"
   ]
  },
  {
   "cell_type": "code",
   "execution_count": null,
   "id": "e4a29ba8",
   "metadata": {
    "nbgrader": {
     "grade": true,
     "grade_id": "q3",
     "locked": false,
     "points": 1,
     "solution": true
    }
   },
   "outputs": [],
   "source": [
    "# Type the letter of the correct answer in the space below (e.g., A, B, C, D)\n"
   ]
  },
  {
   "cell_type": "markdown",
   "id": "0d2ab317",
   "metadata": {},
   "source": [
    "## Lecture 2: Basic Python Syntax 2"
   ]
  },
  {
   "cell_type": "markdown",
   "id": "9ac5c594",
   "metadata": {},
   "source": [
    "**Q4. What is the difference between regular division and floor division in Python?**\n",
    "\n",
    "- A. Regular division returns an integer, floor division returns a float\n",
    "- B. Regular division uses `//`, floor division uses `/`\n",
    "- C. Regular division returns a float, floor division returns an integer\n",
    "- D. There is no difference\n"
   ]
  },
  {
   "cell_type": "code",
   "execution_count": null,
   "id": "3d3bc240",
   "metadata": {
    "nbgrader": {
     "grade": true,
     "grade_id": "q5",
     "locked": false,
     "points": 1,
     "solution": true
    }
   },
   "outputs": [],
   "source": [
    "# Type the letter of the correct answer in the space below (e.g., A, B, C, D)\n"
   ]
  },
  {
   "cell_type": "markdown",
   "id": "62149c6c",
   "metadata": {},
   "source": [
    "**Q5. Which of the following will convert an 'array' from one variable type to another?**\n",
    "\n",
    "- A. Use `array.astype()`  \n",
    "- B. Use `astype().array`\n",
    "- C. Use `type(array)` \n",
    "- D. Use `np.array` \n"
   ]
  },
  {
   "cell_type": "code",
   "execution_count": null,
   "id": "1534845c",
   "metadata": {
    "nbgrader": {
     "grade": true,
     "grade_id": "q6",
     "locked": false,
     "points": 1,
     "solution": true
    }
   },
   "outputs": [],
   "source": [
    "# Type the letter of the correct answer in the space below (e.g., A, B, C, D)\n"
   ]
  },
  {
   "cell_type": "markdown",
   "id": "d9952ab8",
   "metadata": {},
   "source": [
    "## Lecture 3: Basic Python Syntax 3"
   ]
  },
  {
   "cell_type": "markdown",
   "id": "ee9d18e2",
   "metadata": {},
   "source": [
    "**Q6. What is the difference between a list and a tuple in Python?**\n",
    "\n",
    "- A. Lists are immutable, tuples are mutable\n",
    "- B. Lists are mutable, tuples are immutable\n",
    "- C. Both are immutable\n",
    "- D. Both are mutable\n"
   ]
  },
  {
   "cell_type": "code",
   "execution_count": null,
   "id": "3f528fcc",
   "metadata": {
    "nbgrader": {
     "grade": true,
     "grade_id": "q7",
     "locked": false,
     "points": 1,
     "solution": true
    }
   },
   "outputs": [],
   "source": [
    "# Type the letter of the correct answer in the space below (e.g., A, B, C, D)\n"
   ]
  },
  {
   "cell_type": "markdown",
   "id": "46fe4992",
   "metadata": {},
   "source": [
    "**Q7. How do dictionaries differ from lists and what are their advantages?**\n",
    "\n",
    "- A. Dictionaries store values in order\n",
    "- B.  Dictionaries can only store strings \n",
    "- C. Dictionaries are slower than lists\n",
    "- D. Dictionaries use keys for indexing and allow fast lookups\n"
   ]
  },
  {
   "cell_type": "code",
   "execution_count": null,
   "id": "52bb9648",
   "metadata": {
    "nbgrader": {
     "grade": true,
     "grade_id": "q8",
     "locked": false,
     "points": 1,
     "solution": true
    }
   },
   "outputs": [],
   "source": [
    "# Type the letter of the correct answer in the space below (e.g., A, B, C, D)\n"
   ]
  },
  {
   "cell_type": "markdown",
   "id": "677e770c",
   "metadata": {},
   "source": [
    "## Lecture 4: Control Flow – If Statements"
   ]
  },
  {
   "cell_type": "markdown",
   "id": "79218d51",
   "metadata": {},
   "source": [
    "**Q8. What is the *primary* purpose of using `if`, `elif`, and `else` statements in Python?**\n",
    "\n",
    "- A. To make decisions based on conditions \n",
    "- B. To perform loops\n",
    "- C. To define functions\n",
    "- D. To import modules\n"
   ]
  },
  {
   "cell_type": "code",
   "execution_count": null,
   "id": "179519f0",
   "metadata": {
    "nbgrader": {
     "grade": true,
     "grade_id": "q10",
     "locked": false,
     "points": 1,
     "solution": true
    }
   },
   "outputs": [],
   "source": [
    "# Type the letter of the correct answer in the space below (e.g., A, B, C, D)\n"
   ]
  },
  {
   "cell_type": "markdown",
   "id": "a4628f38",
   "metadata": {},
   "source": [
    "**Q9. Why is indentation most important in Python control flow statements?**\n",
    "\n",
    "- A. It improves readability only\n",
    "- B. It is optional in Python\n",
    "- C. It separates functions\n",
    "- D. It defines code blocks and affects execution \n"
   ]
  },
  {
   "cell_type": "code",
   "execution_count": null,
   "id": "9876d994",
   "metadata": {
    "nbgrader": {
     "grade": true,
     "grade_id": "q12",
     "locked": false,
     "points": 1,
     "solution": true
    }
   },
   "outputs": [],
   "source": [
    "# Type the letter of the correct answer in the space below (e.g., A, B, C, D)\n"
   ]
  },
  {
   "cell_type": "markdown",
   "id": "ef56e6a8",
   "metadata": {},
   "source": [
    "## Lecture 5: Control Flow – Looping"
   ]
  },
  {
   "cell_type": "markdown",
   "id": "386b74d3",
   "metadata": {},
   "source": [
    "**Q10. What is the difference between a `for` loop and a `while` loop in Python?**\n",
    "\n",
    "- A. Both are identical\n",
    "- B. `while` loops are faster\n",
    "- C. `for` loops are used for conditions, `while` for sequences\n",
    "- D. `for` loops iterate over sequences, `while` loops run while a condition is true\n"
   ]
  },
  {
   "cell_type": "code",
   "execution_count": null,
   "id": "4ed04c94",
   "metadata": {
    "nbgrader": {
     "grade": true,
     "grade_id": "q13",
     "locked": false,
     "points": 1,
     "solution": true
    }
   },
   "outputs": [],
   "source": [
    "# Type the letter of the correct answer in the space below (e.g., A, B, C, D)\n"
   ]
  },
  {
   "cell_type": "markdown",
   "id": "1380e250",
   "metadata": {},
   "source": [
    "**Q11. How does the `range()` function work in a `for` loop?**\n",
    "\n",
    "- A. It creates a list of strings\n",
    "- B. It generates a sequence of numbers\n",
    "- C. It returns a boolean\n",
    "- D. It defines a condition\n"
   ]
  },
  {
   "cell_type": "code",
   "execution_count": null,
   "id": "272f11c9",
   "metadata": {
    "nbgrader": {
     "grade": true,
     "grade_id": "q14",
     "locked": false,
     "points": 1,
     "solution": true
    }
   },
   "outputs": [],
   "source": [
    "# Type the letter of the correct answer in the space below (e.g., A, B, C, D)\n"
   ]
  },
  {
   "cell_type": "markdown",
   "id": "9b8c2e17",
   "metadata": {},
   "source": [
    "**Q12. What does the `enumerate()` function do when used in a loop?**\n",
    "\n",
    "- A. It provides both index and value during iteration \n",
    "- B. It adds elements to a list\n",
    "- C. It reverses a list\n",
    "- D. It sorts the list\n"
   ]
  },
  {
   "cell_type": "code",
   "execution_count": null,
   "id": "bec80652",
   "metadata": {
    "nbgrader": {
     "grade": true,
     "grade_id": "q15",
     "locked": false,
     "points": 1,
     "solution": true
    }
   },
   "outputs": [],
   "source": [
    "# Type the letter of the correct answer in the space below (e.g., A, B, C, D)\n"
   ]
  },
  {
   "cell_type": "markdown",
   "id": "3391e737",
   "metadata": {},
   "source": [
    "## Lecture 6: Control Flow – Definitions"
   ]
  },
  {
   "cell_type": "markdown",
   "id": "48f45bde",
   "metadata": {},
   "source": [
    "**Q13. What is the *primary* purpose of defining functions in Python?**\n",
    "\n",
    "- A. To repeat code manually\n",
    "- B. To organize code into reusable blocks\n",
    "- C. To create loops\n",
    "- D. To define variables\n"
   ]
  },
  {
   "cell_type": "code",
   "execution_count": null,
   "id": "8a28d920",
   "metadata": {
    "nbgrader": {
     "grade": true,
     "grade_id": "q16",
     "locked": false,
     "points": 1,
     "solution": true
    }
   },
   "outputs": [],
   "source": [
    "# Type the letter of the correct answer in the space below (e.g., A, B, C, D)\n"
   ]
  },
  {
   "cell_type": "markdown",
   "id": "91dd1635",
   "metadata": {},
   "source": [
    "**Q14. What does the `return` statement do in a function?**\n",
    "\n",
    "- A. It prints output\n",
    "- B. It exits the program\n",
    "- C. It sends a value back to the caller\n",
    "- D. It defines a variable\n"
   ]
  },
  {
   "cell_type": "code",
   "execution_count": null,
   "id": "21a7b1cd",
   "metadata": {
    "nbgrader": {
     "grade": true,
     "grade_id": "q18",
     "locked": false,
     "points": 1,
     "solution": true
    }
   },
   "outputs": [],
   "source": [
    "# Type the letter of the correct answer in the space below (e.g., A, B, C, D)\n"
   ]
  },
  {
   "cell_type": "markdown",
   "id": "156c1a56",
   "metadata": {},
   "source": [
    "## Lecture 7: NumPy Array Basics"
   ]
  },
  {
   "cell_type": "markdown",
   "id": "572af51e",
   "metadata": {},
   "source": [
    "**Q15. What is the difference between a Python list and a NumPy array?**\n",
    "\n",
    "- A. NumPy arrays support vectorized operations \n",
    "- B. Lists are faster than Numpy arrays\n",
    "- C. Lists can store only numbers\n",
    "- D. Numpy arrays are slower\n"
   ]
  },
  {
   "cell_type": "code",
   "execution_count": null,
   "id": "068da83b",
   "metadata": {
    "nbgrader": {
     "grade": true,
     "grade_id": "q19",
     "locked": false,
     "points": 1,
     "solution": true
    }
   },
   "outputs": [],
   "source": [
    "# Type the letter of the correct answer in the space below (e.g., A, B, C, D)\n"
   ]
  },
  {
   "cell_type": "markdown",
   "id": "9c231370",
   "metadata": {},
   "source": [
    "**Q16. What happens when you multiply a NumPy array by a scalar value?**\n",
    "\n",
    "- A. It raises an error\n",
    "- B. It converts the array to a list\n",
    "- C. Only the first element is affected\n",
    "- D. Each element is multiplied by the scalar \n"
   ]
  },
  {
   "cell_type": "code",
   "execution_count": null,
   "id": "1461025b",
   "metadata": {
    "nbgrader": {
     "grade": true,
     "grade_id": "q21",
     "locked": false,
     "points": 1,
     "solution": true
    }
   },
   "outputs": [],
   "source": [
    "# Type the letter of the correct answer in the space below (e.g., A, B, C, D)\n"
   ]
  },
  {
   "cell_type": "markdown",
   "id": "b42cd7df",
   "metadata": {},
   "source": [
    "## Lecture 8: NumPy Reading and Statistical Functions"
   ]
  },
  {
   "cell_type": "markdown",
   "id": "7c854bd3",
   "metadata": {},
   "source": [
    "**Q17. Which of the following NumPy array declarations has 3 rows and 1 column?**\n",
    "\n",
    "- A. `np.array([1, 2, 3])`      \n",
    "- B. `np.array([[1], [2], [3]])`       \n",
    "- C. `np.array([[1,2], [3,4], [5,6]])`     \n",
    "- D. `np.array([[1,2,3],[4,5,6]])`       "
   ]
  },
  {
   "cell_type": "code",
   "execution_count": null,
   "id": "8bb4293e",
   "metadata": {
    "nbgrader": {
     "grade": true,
     "grade_id": "q22",
     "locked": false,
     "points": 1,
     "solution": true
    }
   },
   "outputs": [],
   "source": [
    "# Type the letter of the correct answer in the space below (e.g., A, B, C, D)\n"
   ]
  },
  {
   "cell_type": "markdown",
   "id": "14badd61",
   "metadata": {},
   "source": [
    "**Q18. Data read in using loadtxt and genfromtxt is stored in which of the following?**\n",
    "\n",
    "- A. numpy array\n",
    "- B. dictionary\n",
    "- C. tuple\n",
    "- D. list\n"
   ]
  },
  {
   "cell_type": "code",
   "execution_count": null,
   "id": "4e17521e",
   "metadata": {
    "nbgrader": {
     "grade": true,
     "grade_id": "q23",
     "locked": false,
     "points": 1,
     "solution": true
    }
   },
   "outputs": [],
   "source": [
    "# Type the letter of the correct answer in the space below (e.g., A, B, C, D)\n"
   ]
  },
  {
   "cell_type": "markdown",
   "id": "e77dc561",
   "metadata": {},
   "source": [
    "**Q19. What does the `np.where()` function return and how is it useful?**\n",
    "\n",
    "- A. It returns the shape of the array\n",
    "- B. It returns indices where a condition is true\n",
    "- C. It returns the maximum value\n",
    "- D. It returns a sorted array\n"
   ]
  },
  {
   "cell_type": "code",
   "execution_count": null,
   "id": "9666800d",
   "metadata": {
    "nbgrader": {
     "grade": true,
     "grade_id": "q24",
     "locked": false,
     "points": 1,
     "solution": true
    }
   },
   "outputs": [],
   "source": [
    "# Type the letter of the correct answer in the space below (e.g., A, B, C, D)\n"
   ]
  },
  {
   "cell_type": "markdown",
   "id": "a9287053-0bcf-4f9c-b2c5-70327d4625b1",
   "metadata": {},
   "source": [
    "## Lecture 9: Matplotlib"
   ]
  },
  {
   "cell_type": "markdown",
   "id": "c054b821-40cc-4a2a-b382-53fb4d70f0ee",
   "metadata": {},
   "source": [
    "**Q20. What does the `plt.subplot(428)` command do in matplotlib?**\n",
    "\n",
    "- A. Creates a figure with two rows and four columns containing eight subplots  \n",
    "- B. Creates a figure with two rows and eight columns containing sixteen subplots  \n",
    "- C. Creates a figure with one subplot in the top-left corner  \n",
    "- D. Creates a figure with four rows and 2 columns containing eight subplots"
   ]
  },
  {
   "cell_type": "code",
   "execution_count": null,
   "id": "5ac9f551-1c9e-481b-9b03-65cbfbbd0f09",
   "metadata": {
    "scrolled": true
   },
   "outputs": [],
   "source": [
    "# Type the letter of the correct answer in the space below (e.g., A, B, C, D)\n"
   ]
  },
  {
   "cell_type": "markdown",
   "id": "abfcd138-8bac-4dbc-82be-71bec1f2d1af",
   "metadata": {},
   "source": [
    "## Lecture 10: "
   ]
  },
  {
   "cell_type": "markdown",
   "id": "5b7bb695-ea5d-4f49-9729-a813c7015777",
   "metadata": {},
   "source": [
    "**Q21. What does the .sel() method in Xarray allow you to do?**\n",
    "\n",
    "- A. Select specific attributes from a dataset  \n",
    "- B. Subset data using coordinate values  \n",
    "- C. Save a dataset to a NetCDF file  \n",
    "- D. Rename variables in a dataset"
   ]
  },
  {
   "cell_type": "code",
   "execution_count": null,
   "id": "1c90c6d9-22a8-4670-863e-00bcd36fbcf0",
   "metadata": {},
   "outputs": [],
   "source": [
    "# Type the letter of the correct answer in the space below (e.g., A, B, C, D)\n",
    " "
   ]
  },
  {
   "cell_type": "markdown",
   "id": "a3109772-c2ed-4dc4-9600-4a2a5ed3f728",
   "metadata": {},
   "source": [
    "**Q22. Which of the following is TRUE about Xarray DataArrays?**\n",
    "\n",
    "- A. They support labeled dimensions and metadata    \n",
    "- B. They do not store coordinate information   \n",
    "- C. They cannot be indexed like NumPy arrays    \n",
    "- D. They are limited to one-dimensional data"
   ]
  },
  {
   "cell_type": "code",
   "execution_count": null,
   "id": "8a987203-fd3c-4437-97e4-bab1aab88446",
   "metadata": {},
   "outputs": [],
   "source": [
    "# Type the letter of the correct answer in the space below (e.g., A, B, C, D)\n"
   ]
  },
  {
   "cell_type": "markdown",
   "id": "167cbf6f-aae3-49a4-b055-2961224b2ae8",
   "metadata": {},
   "source": [
    "# 'Fix me I'm broken or Confused?' Questions <span style=\"color:green\">(4 pts each)</span>\n",
    "In this section - you are to run each of the cells and fix the bugs and/or logic! **Comment out the code that is broken or flawed logic** (<u>do not overwrite or delete it</u>). In each cell, add the modified code below it."
   ]
  },
  {
   "cell_type": "markdown",
   "id": "0ab3b3d8-8b38-4c8f-b866-934487ea7c92",
   "metadata": {},
   "source": [
    "### <span style=\"color:red\">SELECT 6 ONLY!</span> Leave the other two blank!"
   ]
  },
  {
   "cell_type": "markdown",
   "id": "45bb60d8-8e15-4d3d-bf23-40783a8b423d",
   "metadata": {},
   "source": [
    "**Q23. Dictionary Update Error: Replace any variable with an updated one!**"
   ]
  },
  {
   "cell_type": "code",
   "execution_count": null,
   "id": "012c196f-15f8-4209-87ee-700175f83c7a",
   "metadata": {},
   "outputs": [],
   "source": [
    "data = {'temp': 72, 'humidity': 55, 'dew_pt': 65}\n",
    "data['dewpt'].append(68)\n"
   ]
  },
  {
   "cell_type": "markdown",
   "id": "fd3ee27f-6fe7-4c06-91f9-ac23caad5b33",
   "metadata": {},
   "source": [
    "**Q24. Nested List Index Error. Print the element in the second row and first column.**"
   ]
  },
  {
   "cell_type": "code",
   "execution_count": null,
   "id": "fca955c2-f260-445d-a95e-fe4ee90590fa",
   "metadata": {},
   "outputs": [],
   "source": [
    "matrix = [[1, 2, 3], [4, 5, 6]]\n",
    "print(matrix[2][0])\n"
   ]
  },
  {
   "cell_type": "markdown",
   "id": "3c0bb581-1cf4-4977-bab2-09beeb7d403a",
   "metadata": {},
   "source": [
    "**Q25. Type Conversion Error. Perform the simple addition!**"
   ]
  },
  {
   "cell_type": "code",
   "execution_count": null,
   "id": "c23f2d37-8bcb-4965-8ec7-c3a77a860623",
   "metadata": {},
   "outputs": [],
   "source": [
    "value = input(\"Enter a number: \")\n",
    "result = value + 10\n"
   ]
  },
  {
   "cell_type": "markdown",
   "id": "b3ea00ea-3130-4864-a95a-04a1cda6868f",
   "metadata": {},
   "source": [
    "**Q26. Function Argument Mismatch: Fix the bug so the function call matches the definition!**"
   ]
  },
  {
   "cell_type": "code",
   "execution_count": null,
   "id": "fa39944b-dd66-4939-aa40-e1b38c183c5d",
   "metadata": {},
   "outputs": [],
   "source": [
    "def greet(name):\n",
    "    print(f\"Hello, {name}!\")\n",
    "\n",
    "greet()\n"
   ]
  },
  {
   "cell_type": "markdown",
   "id": "5895ae0c-772f-4f5f-aa33-0095a7891e65",
   "metadata": {},
   "source": [
    "**Q27. Boolean 👻 Indexing Error: Fix the logic and the bug🪳 so that the code prints temperatures greater than  79°F**"
   ]
  },
  {
   "cell_type": "code",
   "execution_count": null,
   "id": "38d82ce4-1f63-44e1-8380-cfb8782f7cbe",
   "metadata": {},
   "outputs": [],
   "source": [
    "import numpy as np\n",
    "temps = np.array([92, 75, 84, 70, 80, 68])\n",
    "hot_days = temps > 80\n",
    "print(temps[hot_days>79])\n"
   ]
  },
  {
   "cell_type": "markdown",
   "id": "456111f0-598f-4333-b554-e0fd673cda38",
   "metadata": {},
   "source": [
    "**Q28. Clean your clock: Print the timestamp with a 4-digit year and integer (2-digit) seconds**"
   ]
  },
  {
   "cell_type": "code",
   "execution_count": null,
   "id": "d72ab42e-8d95-43ea-9e1e-9bb66d934b9d",
   "metadata": {},
   "outputs": [],
   "source": [
    "from datetime import datetime, UTC\n",
    "d_local = datetime.now(UTC)\n",
    "print(f'{d_local:%y-%m-%d %H:%M:%s}')\n"
   ]
  },
  {
   "cell_type": "markdown",
   "id": "10f60eaa-cd5a-4702-95e1-e8c28253ec6c",
   "metadata": {},
   "source": [
    "**Q29. Syntax and index errors: Print the current month!**"
   ]
  },
  {
   "cell_type": "code",
   "execution_count": null,
   "id": "270cbde1-f269-4741-b1fe-e988c4415ed4",
   "metadata": {},
   "outputs": [],
   "source": [
    "from datetime import datetime, UTC\n",
    "mo = ['Jan', 'Feb', 'Mar', 'Apr', 'May', 'Jun', 'Jul', 'Aug', 'Sep', 'Oct', 'Nov', 'Dec']\n",
    "d_local = datetime.now(UTC)\n",
    "dlm = d_local.year\n",
    "print(f'The month index is {dlm} which is {mo[dlm]}')\n"
   ]
  },
  {
   "cell_type": "markdown",
   "id": "1da2f0dd-a394-43f7-b5e5-8ecab18cda90",
   "metadata": {},
   "source": [
    "**Q30. Wrong answer! Fix the logic flaw to calculate the mean (-99 is a missing value - so don't use it!).**"
   ]
  },
  {
   "cell_type": "code",
   "execution_count": null,
   "id": "edb52ea9-9ca8-49d1-becf-8f68506c0829",
   "metadata": {},
   "outputs": [],
   "source": [
    "import numpy as np\n",
    "# temps = np.array(list((72, 75, 78, -99, 80, 85)))\n",
    "# mean_temp = np.mean(temps[temps == -99])\n",
    "# print(\"Mean temperature:\", mean_temp)\n"
   ]
  },
  {
   "cell_type": "markdown",
   "id": "88d69769-7859-4986-9716-dc6e958bd5ab",
   "metadata": {},
   "source": [
    "# Simple Coding Questions (<span style=\"color:green\">5 pts each</span>)"
   ]
  },
  {
   "cell_type": "markdown",
   "id": "d31de66b-bc31-473e-8f4c-ec7f611c2a90",
   "metadata": {},
   "source": [
    "### Undergraduate  - <span style=\"color:red\">SELECT 2 ONLY!</span>  Leave the other two blank!"
   ]
  },
  {
   "cell_type": "markdown",
   "id": "2a3e97b3-a453-4797-8138-78450cb62bd5",
   "metadata": {},
   "source": [
    "**Q31.** Write a Python *function* that takes a number as input and prints whether it is positive, negative, or zero."
   ]
  },
  {
   "cell_type": "code",
   "execution_count": null,
   "id": "60932866-bd12-4421-8624-cb3e845540ac",
   "metadata": {},
   "outputs": [],
   "source": []
  },
  {
   "cell_type": "markdown",
   "id": "339ac37f-fccc-4970-92e2-2cd70f6e476e",
   "metadata": {},
   "source": [
    "**Q32.** Write a Python loop that prints all even numbers from 0 to 20. Do not hardwire your numbers (i.e., no lists)."
   ]
  },
  {
   "cell_type": "code",
   "execution_count": null,
   "id": "a1b1674b-303a-4741-875d-40d03a8681fa",
   "metadata": {},
   "outputs": [],
   "source": []
  },
  {
   "cell_type": "markdown",
   "id": "427ac14a-2502-41ab-852e-a916e766fec7",
   "metadata": {},
   "source": [
    "**Q33.** Create a **NumPy array** with the values `[3, 7, 2, 9, 4]`. Use NumPy to find the index of the maximum value and print both the index and the value."
   ]
  },
  {
   "cell_type": "code",
   "execution_count": null,
   "id": "0b4d7da7-2c3e-4e7b-9123-34914dd9c768",
   "metadata": {},
   "outputs": [],
   "source": []
  },
  {
   "cell_type": "markdown",
   "id": "39dd253a-4bc7-4759-8349-49c0ea6561d4",
   "metadata": {},
   "source": [
    "**Q34.** Open the xarray precipitable water vapor file from the OpenDAP THREDDS server at http://psl.noaa.gov/thredds/dodsC/Datasets/ncep/pr_wtr.2024.nc. **DO NOT DOWNLOAD THE FILE - JUST POINT TO IT**. The data is from the NCEP North American Regional Reanalysis (NARR) archive. Extract the pwat variable and dump its content to the screen. The file is in the data directory in the cloud."
   ]
  },
  {
   "cell_type": "code",
   "execution_count": null,
   "id": "cfc00f0d-9719-4aac-86c8-efd77fb0e2ac",
   "metadata": {},
   "outputs": [],
   "source": [
    "# Import library\n",
    "\n",
    "#open the data set here\n",
    "\n",
    "#extract the variable\n"
   ]
  },
  {
   "cell_type": "markdown",
   "id": "d6a885d9-e932-48d7-a7a6-5138fb9f4992",
   "metadata": {},
   "source": [
    "## Graduate Student Programming Question (<span style=\"color:green\">10 pts</span>) "
   ]
  },
  {
   "cell_type": "markdown",
   "id": "d6dc6149-e860-4137-8cfd-6951b1c8a73a",
   "metadata": {},
   "source": [
    "**Q35.** Read in (use genfromtxt) the date/time, temperature & dew point temperature from the file `KMLB_Iowa_Meso_Aug2025.txt`. The file is loated in in the jetstream data directory. <span style=\"color:green\">2 pts</span>\n",
    "\n",
    "- Calculate the dew point depression (i.e., temperature - dew point). <span style=\"color:green\">2 pts</span>\n",
    "- Find the maximum dew point depression and indices (print it out using an f string format) <span style=\"color:green\">2 pts</span>\n",
    "- Find the date/time of the maximum     (print it out using an f string format) <span style=\"color:green\">2 pts</span>\n",
    "- Dump a quick plot of the dew pt depression (y axis). Set the x axis equal to the index. <span style=\"color:green\">2 pts</span>"
   ]
  },
  {
   "cell_type": "code",
   "execution_count": null,
   "id": "707922cb-842d-4c08-8e20-649415ffa7eb",
   "metadata": {},
   "outputs": [],
   "source": [
    "#Import Libraries\n",
    "\n",
    "#Read the data\n"
   ]
  },
  {
   "cell_type": "code",
   "execution_count": null,
   "id": "a5f3a2bf-4950-4087-9142-336a891f5a82",
   "metadata": {},
   "outputs": [],
   "source": [
    "#Calculate dew point depresssioin\n",
    "\n",
    "\n",
    "#Calculate the maximum dew point depression\n",
    "\n",
    "\n",
    "#Calculate the index (indices) of the maximum dew point depression\n",
    "\n",
    "\n",
    "#Determine the date/time of the maximum\n",
    "\n"
   ]
  },
  {
   "cell_type": "code",
   "execution_count": null,
   "id": "a6bb8411-dbb4-4580-9f62-65b2ec538039",
   "metadata": {},
   "outputs": [],
   "source": [
    "#Plot goes here!\n"
   ]
  }
 ],
 "metadata": {
  "kernelspec": {
   "display_name": "Python 3 (ipykernel)",
   "language": "python",
   "name": "python3"
  },
  "language_info": {
   "codemirror_mode": {
    "name": "ipython",
    "version": 3
   },
   "file_extension": ".py",
   "mimetype": "text/x-python",
   "name": "python",
   "nbconvert_exporter": "python",
   "pygments_lexer": "ipython3",
   "version": "3.12.2"
  }
 },
 "nbformat": 4,
 "nbformat_minor": 5
}
