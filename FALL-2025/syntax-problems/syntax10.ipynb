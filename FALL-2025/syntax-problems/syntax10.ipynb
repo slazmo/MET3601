{
 "cells": [
  {
   "cell_type": "code",
   "execution_count": 3,
   "id": "5052d7f9-0c6d-4095-b155-e5600e3bee13",
   "metadata": {},
   "outputs": [],
   "source": [
    "from datetime import datetime\n",
    "\n",
    "import cartopy.crs as ccrs\n",
    "import cartopy.feature as cfeature\n",
    "import matplotlib.pyplot as plt\n",
    "from metpy.units import units\n",
    "import numpy as np\n",
    "import xarray as xr"
   ]
  },
  {
   "cell_type": "code",
   "execution_count": 7,
   "id": "1fa2e7d9-cabb-4c63-9353-b3f385e39a87",
   "metadata": {},
   "outputs": [],
   "source": [
    "# Bring in metadata and set up for bringing in the data\n",
    "ds = xr.open_dataset('http://psl.noaa.gov/thredds/dodsC/Datasets/'\n",
    "                     'ncep.reanalysis/pressure/hgt.1993.nc')\n",
    "\n",
    "# Grab the assigned 300 hPa geopotential height data\n",
    "date = datetime(     )\n",
    "hght_data = ds.hgt.sel(time=date, level= )"
   ]
  },
  {
   "cell_type": "code",
   "execution_count": null,
   "id": "452e3280-4a58-4a3e-91de-c3a0dfb69243",
   "metadata": {},
   "outputs": [],
   "source": []
  }
 ],
 "metadata": {
  "kernelspec": {
   "display_name": "Python 3 (ipykernel)",
   "language": "python",
   "name": "python3"
  },
  "language_info": {
   "codemirror_mode": {
    "name": "ipython",
    "version": 3
   },
   "file_extension": ".py",
   "mimetype": "text/x-python",
   "name": "python",
   "nbconvert_exporter": "python",
   "pygments_lexer": "ipython3",
   "version": "3.12.2"
  }
 },
 "nbformat": 4,
 "nbformat_minor": 5
}
