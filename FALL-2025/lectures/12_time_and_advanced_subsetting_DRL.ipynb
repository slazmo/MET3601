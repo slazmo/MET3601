{
 "cells": [
  {
   "cell_type": "markdown",
   "id": "f21e1180-0520-47eb-82fc-6f28ee9f4bbf",
   "metadata": {},
   "source": [
    "# Time in Python\n",
    "\n",
    "Dealing with dates and times are not always the easiest thing. One of the built-in modules to Python is the datetime package, which has robust methods for dealing with all sorts of date related needs. This notebook will hit some of the main highlights of working with dates in Python.\n",
    "\n",
    "For full information on the datetime module visit the documentation pages: https://docs.python.org/3/library/datetime.html"
   ]
  },
  {
   "cell_type": "markdown",
   "id": "ea79101f-64a8-4433-bea9-6e734d4cd39a",
   "metadata": {},
   "source": [
    "## Importing Datetime Module\n",
    "\n",
    "The import statement is a little different from most of the imports that we do for Python modules as the name of the specific module we want to import is the same as the package itself.\n",
    "\n",
    "Documentation Page: https://docs.python.org/3/library/datetime.html#datetime-objects\n",
    "\n",
    "Examples of Datetime Usage: https://docs.python.org/3/library/datetime.html#examples-of-usage-datetime"
   ]
  },
  {
   "cell_type": "code",
   "execution_count": 5,
   "id": "5c743275-d82d-4718-a924-f0149ecc3b4a",
   "metadata": {},
   "outputs": [],
   "source": [
    "# from datetime import datetime\n",
    "from datetime import datetime, timezone\n",
    "from datetime import datetime, UTC\n",
    "import matplotlib.pyplot as plt\n",
    "import numpy as np"
   ]
  },
  {
   "cell_type": "code",
   "execution_count": 7,
   "id": "c166ebce-6d3e-42e6-88a9-65f1c4544e60",
   "metadata": {},
   "outputs": [
    {
     "name": "stdout",
     "output_type": "stream",
     "text": [
      "2025-09-28 18:29:34.566137+00:00\n",
      "2025-09-28 14:29:34.566373\n",
      "2025-09-28 18:29:34\n",
      "20250928\n"
     ]
    }
   ],
   "source": [
    "# Pull time from computer\n",
    "d = datetime.now(UTC)\n",
    "print(d)\n",
    "\n",
    "d_local = datetime.now()\n",
    "print(d_local)\n",
    "\n",
    "print(f'{d:%Y-%m-%d %H:%M:%S}')\n",
    "print(f'{d:%Y%m%d}')"
   ]
  },
  {
   "cell_type": "markdown",
   "id": "9c829371-7e19-4301-a047-826a8e0783cb",
   "metadata": {},
   "source": [
    "## Construct Datetime Object\n",
    "\n",
    "You can make any date/time into a datetime object\n",
    "\n",
    "Format of datetime function call: `datetime(<year>, <month>, <day>, <hour>, <minute>)`\n"
   ]
  },
  {
   "cell_type": "code",
   "execution_count": 8,
   "id": "7c397205-9cdc-458a-bf24-56f5e8ff9a54",
   "metadata": {},
   "outputs": [
    {
     "name": "stdout",
     "output_type": "stream",
     "text": [
      "1963-01-10 00:00:00\n",
      "1963-01-10 10:30:20\n",
      "<class 'datetime.datetime'>\n"
     ]
    }
   ],
   "source": [
    "# Construct a datetime object\n",
    "# Format of datetime function call: datetime(<year>, <month>, <day>, <hour>, <minute>)\n",
    "drlbday = datetime(1963, 1, 10)  \n",
    "print(drlbday)\n",
    "\n",
    "#add hour, min, sec\n",
    "drlbday = datetime(1963, 1, 10, 10, 30, 20) \n",
    "print(drlbday)\n",
    "print(type(drlbday))"
   ]
  },
  {
   "cell_type": "markdown",
   "id": "4030f8fe-09da-4e02-a93a-b8a3db8db088",
   "metadata": {},
   "source": [
    "## Get pieces of date out\n",
    "\n",
    "Year: ```date.year```\n",
    "\n",
    "Month: ```date.month```\n",
    "\n",
    "Day: ```date.day```\n",
    "\n",
    "Hour: ```date.hour```\n",
    "\n",
    "Minute: ```date.minute```\n",
    "\n",
    "Second: ```date.second```\n",
    "\n",
    "These methods will give you the numeric value of each part of the datetime object."
   ]
  },
  {
   "cell_type": "code",
   "execution_count": 36,
   "id": "0b32fc7e-ea6a-4e1d-9c1c-2b2caac6653d",
   "metadata": {},
   "outputs": [
    {
     "name": "stdout",
     "output_type": "stream",
     "text": [
      "1\n",
      "1963\n"
     ]
    }
   ],
   "source": [
    "print(drlbday.month)\n",
    "print(drlbday.year)"
   ]
  },
  {
   "cell_type": "markdown",
   "id": "6c25305d-e0e1-4bc5-8e00-ce1c7908b948",
   "metadata": {},
   "source": [
    "## Create Datetime Object from String Value\n",
    "\n",
    "Maybe you get a a date as a string, say from an ```input()``` function call, you can use a function from datetime to make that into a datetime object."
   ]
  },
  {
   "cell_type": "code",
   "execution_count": 9,
   "id": "21eacefc-e8e1-4a65-adc8-ae21863f75f0",
   "metadata": {},
   "outputs": [
    {
     "name": "stdout",
     "output_type": "stream",
     "text": [
      "2025-09-29 00:00:00\n",
      "<class 'str'>\n",
      "<class 'datetime.datetime'>\n"
     ]
    }
   ],
   "source": [
    "dstring = '2025-09-29'\n",
    "date = datetime.strptime(dstring, '%Y-%m-%d')\n",
    "print(date)\n",
    "#Lets take a look at the variable type\n",
    "print(type(dstring))\n",
    "print(type(date))"
   ]
  },
  {
   "cell_type": "markdown",
   "id": "f7cf6c80-26bc-4a09-a14c-6f6f82a296b2",
   "metadata": {},
   "source": [
    "## Date Calculations\n",
    "\n",
    "What was the date five days ago?\n",
    "\n",
    "What will the date be five days from now?\n",
    "\n",
    "The timedelta module, part of the datetime package, can be used to perform simple date calculations"
   ]
  },
  {
   "cell_type": "code",
   "execution_count": 10,
   "id": "ccd9b9fd-8e0e-4d63-b3b8-d6fa6a54e3d7",
   "metadata": {},
   "outputs": [
    {
     "name": "stdout",
     "output_type": "stream",
     "text": [
      "2025-09-24 18:29:34.566137+00:00\n",
      "2025-09-28 14:29:34.566137+00:00\n",
      "2025-08-31 18:29:34.566137+00:00\n"
     ]
    }
   ],
   "source": [
    "from datetime import timedelta\n",
    "\n",
    "# What was the day/month/year of four days ago\n",
    "print(d - timedelta(days=4))\n",
    "print(d - timedelta(hours=4))\n",
    "print(d - timedelta(weeks=4))"
   ]
  },
  {
   "cell_type": "markdown",
   "id": "f4def542-9317-45be-a1d7-660c8cd4e0ac",
   "metadata": {},
   "source": [
    "## Advanced Subsetting\n",
    "\n",
    "Working with time series data can be difficult because of dates. Dates are a unique format that are not integers, strings, or floating point numbers. Some motivating questions as we work with data that includes dates:\n",
    "* So how do we successfully read in a column that contains dates?\n",
    "* How can we subset using dates?\n",
    "\n",
    "Let's begin by reading in our ORD data that we have been working with and we'll need to use two separate read statements because of the different formats of our dates from the rest of our data.\n",
    "\n",
    "In Numpy, the data type (dtype) for our dates is `np.datetime64`. We'll have to specify that data type when we read in our data using the `dtype` keyword argument.\n",
    "\n",
    "More information about Numpy datetime64: https://numpy.org/doc/stable/reference/arrays.datetime.html\n"
   ]
  },
  {
   "cell_type": "code",
   "execution_count": 11,
   "id": "60864582-6017-4f9a-b0f3-10e83cd46f4c",
   "metadata": {},
   "outputs": [],
   "source": [
    "# First read in our data only bringing in some of the columns\n",
    "path = '/Users/slazarus_admin/Library/CloudStorage/OneDrive-FloridaInstituteofTechnology/MET3601/WEEK_6/'\n",
    "file = 'ord_2010_data.csv'\n",
    "ord_data = np.loadtxt(path + file, skiprows=2, usecols=[1,2,3,4], delimiter=',')"
   ]
  },
  {
   "cell_type": "code",
   "execution_count": 12,
   "id": "2f6e5092-3150-4043-80ef-2dc9b96fc44c",
   "metadata": {},
   "outputs": [
    {
     "name": "stdout",
     "output_type": "stream",
     "text": [
      "CHICAGO OHARE IN0.0001L AP\n",
      "date,mint,avgt,maxt,pcpn,snow,snwd\n",
      "2010-01-01,5,10.5,16,0.0001,0.0001,2\n",
      "2010-01-02,2,6.5,11,0.00,0.0,2\n",
      "2010-01-03,-1,8.5,18,0.0001,0.0001,2\n",
      "2010-01-04,7,12.5,18,0.0001,0.0001,2\n",
      "2010-01-05,13,18.0,23,0.0001,0.0001,2\n",
      "2010-01-06,10,15.0,20,0.01,0.1,2\n",
      "2010-01-07,16,19.0,22,0.27,3.9,3\n",
      "2010-01-08,11,19.0,27,0.27,3.5,8\n"
     ]
    }
   ],
   "source": [
    "!head -10 ord_2010_data.csv     #can open a file in another directory (add path or ..)"
   ]
  },
  {
   "cell_type": "markdown",
   "id": "558554fd-18d9-4a81-a7b2-5779c0940de1",
   "metadata": {},
   "source": [
    "While the Numpy datetime64 data type is just fine, I prefer working with native Python datetime objects. We can convert the dates Numpy array to an array containing datetime objects by converting the types. It's a little wonky because you first have to convert to a `datetime64[ms]`, which is a millisecond format, then to the datetime object or `'O'`."
   ]
  },
  {
   "cell_type": "code",
   "execution_count": 13,
   "id": "e6cdb07c-6a51-4499-a75e-82e245d835a6",
   "metadata": {},
   "outputs": [
    {
     "name": "stdout",
     "output_type": "stream",
     "text": [
      "['2010-01-01' '2010-01-02' '2010-01-03' '2010-01-04' '2010-01-05'\n",
      " '2010-01-06' '2010-01-07' '2010-01-08' '2010-01-09' '2010-01-10'\n",
      " '2010-01-11' '2010-01-12' '2010-01-13' '2010-01-14' '2010-01-15'\n",
      " '2010-01-16' '2010-01-17' '2010-01-18' '2010-01-19' '2010-01-20'\n",
      " '2010-01-21' '2010-01-22' '2010-01-23' '2010-01-24' '2010-01-25'\n",
      " '2010-01-26' '2010-01-27' '2010-01-28' '2010-01-29' '2010-01-30'\n",
      " '2010-01-31' '2010-02-01' '2010-02-02' '2010-02-03' '2010-02-04'\n",
      " '2010-02-05' '2010-02-06' '2010-02-07' '2010-02-08' '2010-02-09'\n",
      " '2010-02-10' '2010-02-11' '2010-02-12' '2010-02-13' '2010-02-14'\n",
      " '2010-02-15' '2010-02-16' '2010-02-17' '2010-02-18' '2010-02-19'\n",
      " '2010-02-20' '2010-02-21' '2010-02-22' '2010-02-23' '2010-02-24'\n",
      " '2010-02-25' '2010-02-26' '2010-02-27' '2010-02-28' '2010-03-01'\n",
      " '2010-03-02' '2010-03-03' '2010-03-04' '2010-03-05' '2010-03-06'\n",
      " '2010-03-07' '2010-03-08' '2010-03-09' '2010-03-10' '2010-03-11'\n",
      " '2010-03-12' '2010-03-13' '2010-03-14' '2010-03-15' '2010-03-16'\n",
      " '2010-03-17' '2010-03-18' '2010-03-19' '2010-03-20' '2010-03-21'\n",
      " '2010-03-22' '2010-03-23' '2010-03-24' '2010-03-25' '2010-03-26'\n",
      " '2010-03-27' '2010-03-28' '2010-03-29' '2010-03-30' '2010-03-31'\n",
      " '2010-04-01' '2010-04-02' '2010-04-03' '2010-04-04' '2010-04-05'\n",
      " '2010-04-06' '2010-04-07' '2010-04-08' '2010-04-09' '2010-04-10'\n",
      " '2010-04-11' '2010-04-12' '2010-04-13' '2010-04-14' '2010-04-15'\n",
      " '2010-04-16' '2010-04-17' '2010-04-18' '2010-04-19' '2010-04-20'\n",
      " '2010-04-21' '2010-04-22' '2010-04-23' '2010-04-24' '2010-04-25'\n",
      " '2010-04-26' '2010-04-27' '2010-04-28' '2010-04-29' '2010-04-30'\n",
      " '2010-05-01' '2010-05-02' '2010-05-03' '2010-05-04' '2010-05-05'\n",
      " '2010-05-06' '2010-05-07' '2010-05-08' '2010-05-09' '2010-05-10'\n",
      " '2010-05-11' '2010-05-12' '2010-05-13' '2010-05-14' '2010-05-15'\n",
      " '2010-05-16' '2010-05-17' '2010-05-18' '2010-05-19' '2010-05-20'\n",
      " '2010-05-21' '2010-05-22' '2010-05-23' '2010-05-24' '2010-05-25'\n",
      " '2010-05-26' '2010-05-27' '2010-05-28' '2010-05-29' '2010-05-30'\n",
      " '2010-05-31' '2010-06-01' '2010-06-02' '2010-06-03' '2010-06-04'\n",
      " '2010-06-05' '2010-06-06' '2010-06-07' '2010-06-08' '2010-06-09'\n",
      " '2010-06-10' '2010-06-11' '2010-06-12' '2010-06-13' '2010-06-14'\n",
      " '2010-06-15' '2010-06-16' '2010-06-17' '2010-06-18' '2010-06-19'\n",
      " '2010-06-20' '2010-06-21' '2010-06-22' '2010-06-23' '2010-06-24'\n",
      " '2010-06-25' '2010-06-26' '2010-06-27' '2010-06-28' '2010-06-29'\n",
      " '2010-06-30' '2010-07-01' '2010-07-02' '2010-07-03' '2010-07-04'\n",
      " '2010-07-05' '2010-07-06' '2010-07-07' '2010-07-08' '2010-07-09'\n",
      " '2010-07-10' '2010-07-11' '2010-07-12' '2010-07-13' '2010-07-14'\n",
      " '2010-07-15' '2010-07-16' '2010-07-17' '2010-07-18' '2010-07-19'\n",
      " '2010-07-20' '2010-07-21' '2010-07-22' '2010-07-23' '2010-07-24'\n",
      " '2010-07-25' '2010-07-26' '2010-07-27' '2010-07-28' '2010-07-29'\n",
      " '2010-07-30' '2010-07-31' '2010-08-01' '2010-08-02' '2010-08-03'\n",
      " '2010-08-04' '2010-08-05' '2010-08-06' '2010-08-07' '2010-08-08'\n",
      " '2010-08-09' '2010-08-10' '2010-08-11' '2010-08-12' '2010-08-13'\n",
      " '2010-08-14' '2010-08-15' '2010-08-16' '2010-08-17' '2010-08-18'\n",
      " '2010-08-19' '2010-08-20' '2010-08-21' '2010-08-22' '2010-08-23'\n",
      " '2010-08-24' '2010-08-25' '2010-08-26' '2010-08-27' '2010-08-28'\n",
      " '2010-08-29' '2010-08-30' '2010-08-31' '2010-09-01' '2010-09-02'\n",
      " '2010-09-03' '2010-09-04' '2010-09-05' '2010-09-06' '2010-09-07'\n",
      " '2010-09-08' '2010-09-09' '2010-09-10' '2010-09-11' '2010-09-12'\n",
      " '2010-09-13' '2010-09-14' '2010-09-15' '2010-09-16' '2010-09-17'\n",
      " '2010-09-18' '2010-09-19' '2010-09-20' '2010-09-21' '2010-09-22'\n",
      " '2010-09-23' '2010-09-24' '2010-09-25' '2010-09-26' '2010-09-27'\n",
      " '2010-09-28' '2010-09-29' '2010-09-30' '2010-10-01' '2010-10-02'\n",
      " '2010-10-03' '2010-10-04' '2010-10-05' '2010-10-06' '2010-10-07'\n",
      " '2010-10-08' '2010-10-09' '2010-10-10' '2010-10-11' '2010-10-12'\n",
      " '2010-10-13' '2010-10-14' '2010-10-15' '2010-10-16' '2010-10-17'\n",
      " '2010-10-18' '2010-10-19' '2010-10-20' '2010-10-21' '2010-10-22'\n",
      " '2010-10-23' '2010-10-24' '2010-10-25' '2010-10-26' '2010-10-27'\n",
      " '2010-10-28' '2010-10-29' '2010-10-30' '2010-10-31' '2010-11-01'\n",
      " '2010-11-02' '2010-11-03' '2010-11-04' '2010-11-05' '2010-11-06'\n",
      " '2010-11-07' '2010-11-08' '2010-11-09' '2010-11-10' '2010-11-11'\n",
      " '2010-11-12' '2010-11-13' '2010-11-14' '2010-11-15' '2010-11-16'\n",
      " '2010-11-17' '2010-11-18' '2010-11-19' '2010-11-20' '2010-11-21'\n",
      " '2010-11-22' '2010-11-23' '2010-11-24' '2010-11-25' '2010-11-26'\n",
      " '2010-11-27' '2010-11-28' '2010-11-29' '2010-11-30' '2010-12-01'\n",
      " '2010-12-02' '2010-12-03' '2010-12-04' '2010-12-05' '2010-12-06'\n",
      " '2010-12-07' '2010-12-08' '2010-12-09' '2010-12-10' '2010-12-11'\n",
      " '2010-12-12' '2010-12-13' '2010-12-14' '2010-12-15' '2010-12-16'\n",
      " '2010-12-17' '2010-12-18' '2010-12-19' '2010-12-20' '2010-12-21'\n",
      " '2010-12-22' '2010-12-23' '2010-12-24' '2010-12-25' '2010-12-26'\n",
      " '2010-12-27' '2010-12-28' '2010-12-29' '2010-12-30' '2010-12-31']\n",
      "<class 'numpy.ndarray'>\n"
     ]
    }
   ],
   "source": [
    "# Convert to Datetime Objects\n",
    "\n",
    "#ord_dates = np.loadtxt(path+file, skiprows=2, usecols=[0],delimiter=',')  #doesn't work!\n",
    "#Try\n",
    "ord_dates = np.loadtxt(path+file, skiprows=2, usecols=[0],delimiter=',',dtype=np.datetime64)\n",
    "\n",
    "print(ord_dates)\n",
    "print(type(ord_dates))  #numpy array of strings want to convert to datetine.."
   ]
  },
  {
   "cell_type": "code",
   "execution_count": 15,
   "id": "beaa6a2f-0f58-49f4-8213-c2db7b0ef2e9",
   "metadata": {},
   "outputs": [],
   "source": [
    "#Convert to datetime objects from numpy format to native python time string (will make it easier to subset)\n",
    "dates = ord_dates.astype('datetime64[ms]').astype('O')  #Capital letter O not zero! Converts to object\n",
    "#print(dates)"
   ]
  },
  {
   "cell_type": "markdown",
   "id": "24d5ee56-33f9-4432-bbd5-c59461f4ea3e",
   "metadata": {},
   "source": [
    "Now we can work to subset our arrays based on datetime objects that are a bit easier to use than trying to figure out what index value would correspond to the Julian day.\n",
    "\n",
    "Let's grab all of the data for summer, which would be all of the dates between June 21 and September 22. We'll need check our dates based on the dates array, then use the result (which would be a boolean array) to then subset the array containing our data. We'll also subset our dates array to use that for plotting purposes."
   ]
  },
  {
   "cell_type": "code",
   "execution_count": 16,
   "id": "ac6b560b-b8e5-4c83-9ff3-0249577e3da6",
   "metadata": {},
   "outputs": [
    {
     "name": "stdout",
     "output_type": "stream",
     "text": [
      "(365,)\n",
      "(93, 4)\n",
      "(93,)\n"
     ]
    }
   ],
   "source": [
    "# Now that they are objects set the start and end date that we want to subset...\n",
    "start_date = datetime(2010, 6, 21)  #Solstice\n",
    "end_date   = datetime(2010, 9, 21)  #Equinox\n",
    "\n",
    "# Set a subset boolean array based on the combination of wanting the dates on and after our start date\n",
    "# to on or before the end date. This means we'll need an & to find that intersection of data\n",
    "subset = (dates >= start_date)&(dates <= end_date) #This returns a boolean array\n",
    "#print(subset)\n",
    "print(subset.shape)\n",
    "\n",
    "# Subset our data array\n",
    "summer_data = ord_data[subset]\n",
    "# print(summer_data)\n",
    "print(summer_data.shape)   #2D\n",
    "# Subset the dates using the same method\n",
    "summer_dates = dates[subset]\n",
    "#print(summer_dates)\n",
    "print(summer_dates.shape)  #1D"
   ]
  },
  {
   "cell_type": "markdown",
   "id": "4e70fd59-3b98-442a-9349-f3945978f5d6",
   "metadata": {},
   "source": [
    "Now let's plot all of the summer maximum temperatures that we previously subset, knowing that the maximum temperature is in the third column (index = 2)."
   ]
  },
  {
   "cell_type": "code",
   "execution_count": 17,
   "id": "6ed3d7e0-17f9-426d-afe0-0bf51cb19993",
   "metadata": {},
   "outputs": [],
   "source": [
    "import matplotlib.pyplot as plt\n",
    "import matplotlib.dates as mdates"
   ]
  },
  {
   "cell_type": "code",
   "execution_count": 21,
   "id": "1b5e88c8-655c-4f95-b14d-e4102be505f3",
   "metadata": {},
   "outputs": [
    {
     "data": {
      "image/png": "[encoded data removed]",
      "text/plain": [
       "<Figure size 1000x600 with 1 Axes>"
      ]
     },
     "metadata": {},
     "output_type": "display_data"
    }
   ],
   "source": [
    "plt.figure(1,figsize=(10,6))\n",
    "ax = plt.subplot(111)\n",
    "fmt = mdates.DateFormatter('%m/%d')  # could use ':' as a separator, could add year (y or Y) but...\n",
    "ax.xaxis.set_major_formatter(fmt)\n",
    "ax.plot(summer_dates, summer_data[:,2])\n",
    "plt.show()"
   ]
  },
  {
   "cell_type": "markdown",
   "id": "42f4fbc9-7135-491c-b633-79807d232f6e",
   "metadata": {},
   "source": [
    "## Exercise #1\n",
    "\n",
    "Plot the max, min, and average temperature for spring (March 20 to June 20) all on the same plot. Be sure to properly label all elements of your plot including acis labels, title, and legend."
   ]
  },
  {
   "cell_type": "code",
   "execution_count": null,
   "id": "5b7e7fd2-5389-4690-8956-ceee1dc3633f",
   "metadata": {},
   "outputs": [],
   "source": []
  },
  {
   "cell_type": "markdown",
   "id": "17442296-aa93-4d61-ae52-7288db57b51c",
   "metadata": {},
   "source": [
    "## Exercise #2\n",
    "\n",
    "Create one figure that contains three different axes for the max, average, and min temperature for spring, summer, and fall. Each axes should have the separate season."
   ]
  },
  {
   "cell_type": "code",
   "execution_count": null,
   "id": "468cf7d4-f2ee-4821-919c-0035c0a8bf54",
   "metadata": {},
   "outputs": [],
   "source": []
  }
 ],
 "metadata": {
  "kernelspec": {
   "display_name": "Python 3 (ipykernel)",
   "language": "python",
   "name": "python3"
  },
  "language_info": {
   "codemirror_mode": {
    "name": "ipython",
    "version": 3
   },
   "file_extension": ".py",
   "mimetype": "text/x-python",
   "name": "python",
   "nbconvert_exporter": "python",
   "pygments_lexer": "ipython3",
   "version": "3.12.2"
  }
 },
 "nbformat": 4,
 "nbformat_minor": 5
}
