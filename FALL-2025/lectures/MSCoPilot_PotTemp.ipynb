{
 "cells": [
  {
   "cell_type": "markdown",
   "id": "b1d37663-ec37-40ff-b828-0ca1f9f86cf2",
   "metadata": {},
   "source": [
    "#### CoPilot question: Write an equation for potential temperature in markup for jupyterlab"
   ]
  },
  {
   "cell_type": "markdown",
   "id": "1388aec8-df22-4194-8fcf-be466bec105b",
   "metadata": {},
   "source": []
  },
  {
   "cell_type": "markdown",
   "id": "b1066c0a-d7c0-4817-ab05-654a659e3bdd",
   "metadata": {},
   "source": []
  },
  {
   "cell_type": "markdown",
   "id": "b9023c87-9210-4350-8f2c-10a401dc9aa8",
   "metadata": {},
   "source": [
    "#### Copilot question: Any other useful Jupyterlab options?"
   ]
  },
  {
   "attachments": {},
   "cell_type": "markdown",
   "id": "40a38743-1972-4053-8bf1-728b312292a2",
   "metadata": {},
   "source": []
  },
  {
   "cell_type": "code",
   "execution_count": 1,
   "id": "4e83912c-0d99-4f55-b08e-a7d48828be9e",
   "metadata": {},
   "outputs": [],
   "source": [
    "#Import \n"
   ]
  },
  {
   "cell_type": "code",
   "execution_count": null,
   "id": "5360a60c-c8d0-4b28-b8f7-d9bb61685e97",
   "metadata": {
    "editable": true,
    "slideshow": {
     "slide_type": ""
    },
    "tags": []
   },
   "outputs": [],
   "source": [
    "# Main Code\n"
   ]
  },
  {
   "cell_type": "markdown",
   "id": "c0aac31e-5d0e-4d47-815c-914d7d829fbd",
   "metadata": {},
   "source": [
    "#### Import a LogP-SkewT"
   ]
  },
  {
   "attachments": {},
   "cell_type": "markdown",
   "id": "55517220-c5bd-4af1-b31d-7ed868c9de4d",
   "metadata": {},
   "source": []
  }
 ],
 "metadata": {
  "kernelspec": {
   "display_name": "Python 3 (ipykernel)",
   "language": "python",
   "name": "python3"
  },
  "language_info": {
   "codemirror_mode": {
    "name": "ipython",
    "version": 3
   },
   "file_extension": ".py",
   "mimetype": "text/x-python",
   "name": "python",
   "nbconvert_exporter": "python",
   "pygments_lexer": "ipython3",
   "version": "3.12.2"
  }
 },
 "nbformat": 4,
 "nbformat_minor": 5
}
