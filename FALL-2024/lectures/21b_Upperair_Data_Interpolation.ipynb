{
 "cells": [
  {
   "cell_type": "code",
   "execution_count": null,
   "id": "abbbe852-2a2e-4882-9b59-b8786abcca55",
   "metadata": {},
   "outputs": [],
   "source": [
    "from datetime import datetime\n",
    "\n",
    "import cartopy.crs as ccrs\n",
    "import cartopy.feature as cfeature\n",
    "import matplotlib.pyplot as plt\n",
    "import metpy.calc as mpcalc\n",
    "from metpy.interpolate import interpolate_to_grid\n",
    "from metpy.io import add_station_lat_lon\n",
    "from metpy.plots import StationPlot\n",
    "from metpy.units import units\n",
    "import numpy as np\n",
    "from siphon.simplewebservice.iastate import IAStateUpperAir \n",
    "import xarray as xr"
   ]
  },
  {
   "cell_type": "markdown",
   "id": "9fe6a50a-9d47-46ee-b954-cbe0339c45be",
   "metadata": {},
   "source": [
    "# Grid Interpolation from Point Data\n",
    "There are times when we have point data but want to make a gridded analysis to be able to have the computer draw contours. While there are many gridded datasets available, sometimes it is best to only use the data you have to create your analysis, especially if you have extra data that were not used in the construction of other gridded products, or you are looking to do a mesoscale analysis over a smaller region. In this notebook we'll use some upperair geopotential height observations over the CONUS available from Iowa State data archives to demonstrate the capabilities in MetPy for gridding up point observations."
   ]
  },
  {
   "cell_type": "markdown",
   "id": "1f6256fb-47d5-4efd-b4c3-17ee2857c090",
   "metadata": {},
   "source": [
    "## Upperair Observations\n",
    "There are a couple of different places to retrieve upperair observations from sounding archives. Previously we have used the Wyoming archive to obtain individual stations vertical profiles. Here we will use Siphon and the Iowa State archive to be able to get all of the data available for a given date/time."
   ]
  },
  {
   "cell_type": "code",
   "execution_count": null,
   "id": "ee740fa6-1412-4cc1-b7f9-82e65edf6a4a",
   "metadata": {},
   "outputs": [],
   "source": [
    "# Set date to get observations from\n",
    "date = datetime(1978, 1, 26, 12)\n",
    "\n",
    "# Use Siphon Simple Web Service to get all UPA data from IA State archive\n",
    "df = IAStateUpperAir.request_all_data(date)"
   ]
  },
  {
   "cell_type": "code",
   "execution_count": null,
   "id": "3b7f6eaf-1434-4682-a850-727c44484dd2",
   "metadata": {},
   "outputs": [],
   "source": [
    "df"
   ]
  },
  {
   "cell_type": "markdown",
   "id": "7bfbaf29-2249-4fe1-b8a1-d664b5abcb49",
   "metadata": {},
   "source": [
    "## Pre-process Observations\n",
    "Not all of the needed infromation comes along with our dataset, we need to add station lat/lon information, drop any observations where we don't have any station lat/lon information added and we'll just look at 500-hPa observations in this example."
   ]
  },
  {
   "cell_type": "code",
   "execution_count": null,
   "id": "a29e95c4-2395-4448-9bc8-a2cd686e2664",
   "metadata": {},
   "outputs": [],
   "source": [
    "# Add station lat/lon locations to DataFrame\n",
    "df = add_station_lat_lon(df)\n",
    "\n",
    "# Drop any station we don't have a lat/lon for\n",
    "\n",
    "\n",
    "# Select only 500 hPa data\n"
   ]
  },
  {
   "cell_type": "markdown",
   "id": "05451783-eb71-403a-ba5c-939e30138d86",
   "metadata": {},
   "source": [
    "## Plotting Point Observations with MetPy\n",
    "\n",
    "MetPy offers the ability to plot surface and upperair observations using a station model. Here we are not going to plot all of the potential variables for an upper-level station model, but demonstrate how to plot the 500-hPa Geopotential Height values. Just like there was a specific plotting class for our SkewT digrams, here we have a station plot class that we'll create using the lat/lon points of the observations we wish to plot. See the link to the documentation below for all of the detailed information.\n",
    "\n",
    "StationPlot: https://unidata.github.io/MetPy/latest/api/generated/metpy.plots.StationPlot.html\n",
    "\n",
    "Once we set up the station object, we can add observations around the station model using cardinal directions ('N', 'S', 'E', 'W', 'NE', 'SE', 'SW', 'NW', etc.) and a center location ('C'). And we are plotting a numeric parameter, so we'll use the `plot_parameter` method off of our station object."
   ]
  },
  {
   "cell_type": "code",
   "execution_count": null,
   "id": "dc5e2e66-8ff6-4a8c-a0c8-eaca115841b3",
   "metadata": {},
   "outputs": [],
   "source": [
    "plt.figure(1, figsize=(15, 13))\n",
    "ax = plt.subplot(111, projection=ccrs.LambertConformal(central_longitude=-100, central_latitude=40))\n",
    "ax.set_extent([-125, -65, 25, 55], ccrs.PlateCarree())\n",
    "\n",
    "# Set up station object using lat/lon info from our Obs\n",
    "\n",
    "\n",
    "# Plot the Geopotnential Height values at the center location\n",
    "\n",
    "\n",
    "\n",
    "# Add Geographic Features\n",
    "ax.add_feature(cfeature.COASTLINE.with_scale('50m'))\n",
    "ax.add_feature(cfeature.BORDERS.with_scale('50m'))\n",
    "ax.add_feature(cfeature.STATES.with_scale('50m'))\n",
    "\n",
    "# Add titles\n",
    "plt.title(f'500-hPa Observations', loc='left')\n",
    "plt.title(f'Valid: {date}', loc='right')\n",
    "\n",
    "plt.show()"
   ]
  },
  {
   "cell_type": "markdown",
   "id": "c928a21c-02e1-4742-91c5-603d119e44b5",
   "metadata": {},
   "source": [
    "## Creating a Grid Interploation\n",
    "With the above created image we could draw contours of geopotential height by hand to create an interpolation or we can generate a grid, have the computer do an interpolation of the observations, and then have the computer draw some contours. So let's try that out...\n",
    "\n",
    "*But what types of interpolation could we use?*\n",
    "\n",
    "There are a number of different interpolation methods that are available in the `interpolate_to_grid` function available from MetPy. Some of them are historic to meteorology (e.g., `'cressman'`, `'barnes'`) and others are common interpolation methods from mathematics/statistics (e.g., `'linear'`, '`cubic'`, `'rbf'`). Depending on which type of interpolation method you use, there might be additional parameters that can be set to refine the output from the interpolation.\n",
    "\n",
    "*What else do I need to set?*\n",
    "\n",
    "The other key element to set at minimum is the `hres` parameter, which dictates the spacing between grid points in the gridded dataset. This parameter should be set according to the units of your x and y values. If using lat/lon directly, then the units are degrees. If you are in some cartesian or projected space, the units are likely to be in meters or kilometers."
   ]
  },
  {
   "cell_type": "code",
   "execution_count": null,
   "id": "df98c63b-2ce5-43f7-87e1-6aad6d655530",
   "metadata": {},
   "outputs": [],
   "source": [
    "# Generate interpolated grid\n",
    "gridx, gridy, grid_hght = interpolate_to_grid()\n",
    "\n",
    "# Smooth the grid using a MetPy function\n",
    "grid_hght_smooth = mpcalc.smooth_n_point(grid_hght, 9, 3)"
   ]
  },
  {
   "cell_type": "code",
   "execution_count": null,
   "id": "b27782e7-a4e6-45f7-baa9-dc712a3cf7e0",
   "metadata": {},
   "outputs": [],
   "source": [
    "grid_hght"
   ]
  },
  {
   "cell_type": "markdown",
   "id": "4542f9d8-502a-49c3-bd18-75ef766135ae",
   "metadata": {},
   "source": [
    "## Add contours to Observations\n",
    "Use the new interpolated grid to plot contours using Matplotlib and add to the map of our observations."
   ]
  },
  {
   "cell_type": "code",
   "execution_count": null,
   "id": "9948d5ab-fef3-49aa-bb88-69b1151f45bb",
   "metadata": {},
   "outputs": [],
   "source": [
    "plt.figure(1, figsize=(15, 13))\n",
    "ax = plt.subplot(111, projection=ccrs.LambertConformal(central_longitude=-100, central_latitude=40))\n",
    "ax.set_extent([-125, -65, 25, 55], ccrs.PlateCarree())\n",
    "\n",
    "station = StationPlot(ax, data_500.longitude, data_500.latitude, transform=ccrs.PlateCarree(), clip_on=True)\n",
    "\n",
    "station.plot_parameter('C', data_500.height)\n",
    "station.plot_text('S', data_500.station)\n",
    "\n",
    "# Add contours of interpolated geopotential heights\n",
    "cs = \n",
    "\n",
    "plt.clabel(cs)\n",
    "\n",
    "# Add Geographic Features\n",
    "ax.add_feature(cfeature.COASTLINE.with_scale('50m'), edgecolor='grey')\n",
    "ax.add_feature(cfeature.BORDERS.with_scale('50m'), edgecolor='grey')\n",
    "ax.add_feature(cfeature.STATES.with_scale('50m'), edgecolor='grey')\n",
    "\n",
    "# Add titles\n",
    "plt.title(f'500-hPa Observations', loc='left')\n",
    "plt.title(f'Valid: {date}', loc='right')\n",
    "\n",
    "\n",
    "plt.show()"
   ]
  },
  {
   "cell_type": "markdown",
   "id": "af27e0a9-2ac5-4179-babd-a34684cd3f95",
   "metadata": {},
   "source": [
    "# Bad Observations\n",
    "When conducting our interpolation on raw observations, there could be bad (or misplaced) data points that greatly impact the interpolation and resulting contour analysis. Using data from 26 January 1978 at 12 UTC there are two observations that don't seem to fit.\n",
    "1. Over central Misouri there is a misplaced station 'KVER' that should be removed\n",
    "2. In Arizona, the Yuma sounding 'KYUX' seems to have a wrong value for the 500-hPa geopotential height\n",
    "\n",
    "So let's work to remove those data points and re-do our analysis."
   ]
  },
  {
   "cell_type": "code",
   "execution_count": null,
   "id": "eff29903-8a33-446d-a431-197c6d618938",
   "metadata": {},
   "outputs": [],
   "source": [
    "# QC Data\n",
    "data_500"
   ]
  },
  {
   "cell_type": "code",
   "execution_count": null,
   "id": "0c1159d7-e2e6-40bc-8526-5ffba0fe380d",
   "metadata": {},
   "outputs": [],
   "source": [
    "#Apply boolean conditionals to remove the two offending points from the data frame\n",
    "data_500 = "
   ]
  },
  {
   "cell_type": "code",
   "execution_count": null,
   "id": "43c542fc-15e1-47b2-8cb0-991b96b4a7a0",
   "metadata": {},
   "outputs": [],
   "source": [
    "#Redo the grid\n",
    "gridx, gridy, grid_hght = interpolate_to_grid(data_500.longitude, data_500.latitude, data_500.height,\n",
    "                                              interp_type='rbf', hres=1)\n",
    "grid_hght_smooth = mpcalc.smooth_n_point(grid_hght, 9, 3)"
   ]
  },
  {
   "cell_type": "code",
   "execution_count": null,
   "id": "292c860f-24be-49f2-9f88-1ae0cb1eab53",
   "metadata": {},
   "outputs": [],
   "source": [
    "plt.figure(2, figsize=(15, 13))\n",
    "ax = plt.subplot(111, projection=ccrs.LambertConformal(central_longitude=-100, central_latitude=40))\n",
    "ax.set_extent([-125, -65, 25, 55], ccrs.PlateCarree())\n",
    "\n",
    "\n",
    "\n",
    "# Add Geographic Features\n",
    "ax.add_feature(cfeature.COASTLINE.with_scale('50m'), edgecolor='grey')\n",
    "ax.add_feature(cfeature.BORDERS.with_scale('50m'), edgecolor='grey')\n",
    "ax.add_feature(cfeature.STATES.with_scale('50m'), edgecolor='grey')\n",
    "\n",
    "# Add titles\n",
    "plt.title(f'500-hPa Observations', loc='left')\n",
    "plt.title(f'Valid: {date}', loc='right')\n",
    "\n",
    "\n",
    "plt.show()"
   ]
  },
  {
   "cell_type": "markdown",
   "id": "8bfe8dfa-30e6-4574-8edb-7e1e35284815",
   "metadata": {},
   "source": [
    "## Plot UPA Station Model with Contours\n",
    "Here we plot the full upperair station model with our interpolated grid contours. Looks like our interpolation did a good job where we have observations of representing the geopotential heights as the winds indicate the geostrophic balance is obtained."
   ]
  },
  {
   "cell_type": "code",
   "execution_count": null,
   "id": "ee6590c0-7380-4afe-ba01-bbcf9c929f45",
   "metadata": {},
   "outputs": [],
   "source": [
    "plt.figure(3, figsize=(15, 13))\n",
    "ax = plt.subplot(111, projection=ccrs.LambertConformal(central_longitude=-100, central_latitude=40))\n",
    "ax.set_extent([-125, -65, 25, 55], ccrs.PlateCarree())\n",
    "\n",
    "station = StationPlot(ax, data_500.longitude, data_500.latitude, fontsize=8, spacing=11, transform=ccrs.PlateCarree(), clip_on=True)\n",
    "\n",
    "# Add all station data around obs point\n",
    "\n",
    "\n",
    "\n",
    "\n",
    "# Add Geographic Features\n",
    "ax.add_feature(cfeature.COASTLINE.with_scale('50m'), edgecolor='grey')\n",
    "ax.add_feature(cfeature.BORDERS.with_scale('50m'), edgecolor='grey')\n",
    "ax.add_feature(cfeature.STATES.with_scale('50m'), edgecolor='grey')\n",
    "\n",
    "# Add titles\n",
    "plt.title(f'500-hPa Observations', loc='left')\n",
    "plt.title(f'Valid: {date}', loc='right')\n",
    "\n",
    "\n",
    "plt.show()"
   ]
  },
  {
   "cell_type": "code",
   "execution_count": null,
   "id": "5d716708-0b30-4add-9063-2ca6d8ee22f8",
   "metadata": {},
   "outputs": [],
   "source": []
  }
 ],
 "metadata": {
  "kernelspec": {
   "display_name": "Python 3 (ipykernel)",
   "language": "python",
   "name": "python3"
  },
  "language_info": {
   "codemirror_mode": {
    "name": "ipython",
    "version": 3
   },
   "file_extension": ".py",
   "mimetype": "text/x-python",
   "name": "python",
   "nbconvert_exporter": "python",
   "pygments_lexer": "ipython3",
   "version": "3.12.2"
  }
 },
 "nbformat": 4,
 "nbformat_minor": 5
}
