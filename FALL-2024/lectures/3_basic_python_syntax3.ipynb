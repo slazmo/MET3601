{
 "cells": [
  {
   "cell_type": "markdown",
   "id": "4c541a9f-6798-4cdd-8ffe-8e3c05c793e4",
   "metadata": {},
   "source": [
    "# Python Data Objects\n",
    "\n",
    "There are a number of different data objects that Python has to store information in a useful manner depending on what you are wanting to do. Here is broad list of the main data objects that are available in base Python.\n",
    "* List\n",
    "* Tuple\n",
    "* Set\n",
    "* Dictionary\n",
    "\n",
    "We've already seen a little bit about lists, but we'll devle a litte more deeper into them and the other data objects in this notebook."
   ]
  },
  {
   "cell_type": "markdown",
   "id": "7b704de5-ac37-4dc7-8452-9d31a5d42502",
   "metadata": {},
   "source": [
    "## Lists\n",
    "There are times when we want to be able to group together items and store them together. Python's most versitile construct for holding multiple items together is known as a list. Lists are mutable, meaning you can change the value of a item within the list. Lists can contain a single type of item (e.g., integers, floats, strings) or a mixed grouping.\n",
    "\n",
    "There are two ways to define a list, 1) using square brackets or 2) using the list function `list()`. For example the following two are equivalent,\n",
    "\n",
    "```python\n",
    "a = [1,2,3,4,5]\n",
    "\n",
    "b = list(1, 2.5, 'Steven', 4, 5)\n",
    "```\n",
    "\n",
    "Just like strings, we can subset a list to get a particular element using index values (addresses) of the desired elements.\n",
    "\n",
    "```python\n",
    "print(a[2])\n",
    "print(b[:3])\n",
    "```\n",
    "Output\n",
    "```python\n",
    "3\n",
    "1, 2.5, Steven\n",
    "```"
   ]
  },
  {
   "cell_type": "code",
   "execution_count": null,
   "id": "9c97d0b8-8828-41e2-90a8-6ecc860b47b1",
   "metadata": {},
   "outputs": [],
   "source": []
  },
  {
   "cell_type": "markdown",
   "id": "de8c2fe9-0bd5-49d1-919d-1bac99e538ec",
   "metadata": {
    "tags": []
   },
   "source": [
    "## Lists vs. Tuple\n",
    "\n",
    "Python doesn't have a true array object. The closest thing to an array is a Python List (which are sometimes called array-like objects). Many of their properties are the same, but there are some notable differences depending on what you are trying to do. There are two ways to define a list, 1) using square brackets or 2) using the list function `list()`. For example the following two are equivalent,\n",
    "\n",
    "```python\n",
    "a = [1,2,3,4,5]\n",
    "\n",
    "a = list(1,2,3,4,5)\n",
    "```\n",
    "\n",
    "Lists are mutable objects, meaning that you can redefine individual elements.\n",
    "\n",
    "Another array-like object in Python is the Tuple. Tuples are different than lists in that they are immutable objects, meaning they can't be changed once assigned. Tuples can also be defined in two different ways, 1) using parentheses or 2) using the tuple function `tuple()`. For example, the following two tuple assignments are equivalent,\n",
    "\n",
    "```python\n",
    "b = (10,20,30,40,50)\n",
    "\n",
    "b = tuple(10,20,30,40,50)\n",
    "```\n",
    "\n",
    "REF: DeCaria Section 2.7"
   ]
  },
  {
   "cell_type": "code",
   "execution_count": null,
   "id": "eb0f88ac-f99f-43e8-b247-357445a00674",
   "metadata": {},
   "outputs": [],
   "source": [
    "# A list\n",
    "a = [1, 2, 3, 4, 5]\n",
    "print(a)"
   ]
  },
  {
   "cell_type": "code",
   "execution_count": null,
   "id": "c47590fa-10ae-4358-b5b6-1c8b4bcaed73",
   "metadata": {},
   "outputs": [],
   "source": [
    "# Try a reassignment of a list object\n",
    "a[1] = 10"
   ]
  },
  {
   "cell_type": "code",
   "execution_count": null,
   "id": "cc51c334-ce30-4807-871e-856b73034124",
   "metadata": {},
   "outputs": [],
   "source": [
    "# A tuple\n",
    "b = ('Steven', 'Mia', 'Sean')"
   ]
  },
  {
   "cell_type": "code",
   "execution_count": null,
   "id": "69d03b59-458d-4ae0-bdce-8901c3c05ee2",
   "metadata": {},
   "outputs": [],
   "source": [
    "# Try a reassignment of a tuple object\n",
    "b[1] = 'Brandan'"
   ]
  },
  {
   "cell_type": "markdown",
   "id": "5d598e5c-fb2f-44a6-9f84-365937ea955f",
   "metadata": {},
   "source": [
    "Both lists and tuples can contain different data types in the same variable. This can be adventageous at times."
   ]
  },
  {
   "cell_type": "code",
   "execution_count": null,
   "id": "bff9f04a-308e-4115-a042-827561627cb1",
   "metadata": {},
   "outputs": [],
   "source": []
  },
  {
   "cell_type": "markdown",
   "id": "fefef925-de31-44c1-92ae-cd3834e47251",
   "metadata": {},
   "source": [
    "## List and Tuple Methods\n",
    "\n",
    "### List Object\n",
    "There are a number of methods that are available for list objects including: ```append(), copy(), count(), index()```.\n",
    "\n",
    "https://docs.python.org/3/tutorial/datastructures.html#more-on-lists\n",
    "\n",
    "### Tuple Object\n",
    "There are only two methods available for the tuple object: ```count(), index()```\n",
    "\n",
    "https://docs.python.org/3/tutorial/datastructures.html#tuples-and-sequences\n",
    "\n",
    "REF: DeCaria Section 2.4 \"Objects, Attributes, and Methods\""
   ]
  },
  {
   "cell_type": "code",
   "execution_count": null,
   "id": "bc0dc8f1-7b17-4534-a67a-83c1ed001312",
   "metadata": {},
   "outputs": [],
   "source": [
    "# List append method\n",
    "a.append(100)\n",
    "print(a)"
   ]
  },
  {
   "cell_type": "code",
   "execution_count": null,
   "id": "e744f823-b253-4882-b080-611f9c9329f6",
   "metadata": {},
   "outputs": [],
   "source": [
    "# Tuple index method\n",
    "indx = tmpf.index(84)\n",
    "print(indx)"
   ]
  },
  {
   "cell_type": "markdown",
   "id": "affeb945-57bc-4009-a1b6-90a728216214",
   "metadata": {},
   "source": [
    "### Beware of Math with Lists and Tuples\n",
    "\n",
    "Math works VERY differently! A multiplication creates that number of copies within the list or tuple and concatenates them to the object."
   ]
  },
  {
   "cell_type": "code",
   "execution_count": null,
   "id": "04c0431d-ea49-4c80-b7a9-73b1dc7ae7a0",
   "metadata": {},
   "outputs": [],
   "source": [
    "# Multiple a list or tuple by 2\n",
    "a*2"
   ]
  },
  {
   "cell_type": "markdown",
   "id": "0d8960b7-59d2-4a97-ba66-e98575c5fcec",
   "metadata": {},
   "source": [
    "## Nested Lists and Tuples\n",
    "\n",
    "Nested Lists (list of lists) are accessed in an odd way using separate square bracket slicing for each dimension of the list.\n",
    "\n",
    "For the following 2D list we want to access the first row, from position two to the end. The subsetting would work as follows\n",
    "```python\n",
    "list2D = [[1, 2, 3, 4, 5], [6, 7, 8, 9, 10]]\n",
    "print(list2D[0][2:])\n",
    "```\n",
    "Output\n",
    "```\n",
    "[3, 4, 5]\n",
    "```"
   ]
  },
  {
   "cell_type": "code",
   "execution_count": null,
   "id": "c3560d6c-6a99-437c-9495-2319d5cb1d38",
   "metadata": {},
   "outputs": [],
   "source": []
  },
  {
   "cell_type": "markdown",
   "id": "3b674464-7aab-4f9e-8d49-f82505836244",
   "metadata": {},
   "source": [
    "## Dictionaries\n",
    "\n",
    "Python has the ability to create a mappable data structure, which is called a dictionary. The main way you'll encounter them is through many different data read methods. The great thing about a dictionary is that you are able to reference data with a string (or key) as opposed to just an index value. This is very powerful for keeping track of a number of different arrays within a \"dataset\".\n",
    "\n",
    "A dictionary is defined in one of two ways, 1) with curly brackets or 2) the ```dict()``` function where you link a value (or list of values) to a key (name).\n",
    "\n",
    "```python\n",
    "hours = list(range(24))\n",
    "stations = ['VPZ', 'GYY', 'ORD', 'MDW', 'RFD']\n",
    "data = {'times': hours, 'stn': stations}\n",
    "print(data['stn'])\n",
    "```\n",
    "Output\n",
    "```\n",
    "['VPZ', 'GYY', 'ORD', 'MDW', 'RFD']\n",
    "```\n",
    "There are a number of important methods attached to a dictionary object including: `clear()`, `copy()`, `keys()`, and `values()`\n",
    "\n",
    "https://docs.python.org/3/tutorial/datastructures.html#dictionaries\n",
    "\n",
    "REF: DeCaria Section 2.8"
   ]
  },
  {
   "cell_type": "code",
   "execution_count": 12,
   "id": "45fc2c6b-8f2e-482c-95b8-5adce4ecb9d5",
   "metadata": {},
   "outputs": [
    {
     "name": "stdout",
     "output_type": "stream",
     "text": [
      "['VPZ', 'GYY', 'ORD', 'MDW', 'RFD']\n"
     ]
    }
   ],
   "source": [
    "hours = list(range(24))\n",
    "stations = ['VPZ', 'GYY', 'ORD', 'MDW', 'RFD']\n",
    "data = {'times': hours, 'stn': stations}\n",
    "print(data['stn'])"
   ]
  },
  {
   "cell_type": "code",
   "execution_count": 18,
   "id": "8d1b726f-455b-4729-8ea7-5dc35706d654",
   "metadata": {},
   "outputs": [],
   "source": [
    "units = {'tmpf': 'F', 'dwpf': 'F', 'pressure': 'hPa'}\n",
    "long_names = {'tmpf': 'Temperature', 'dwpf': 'Dewpoint', 'pressure': 'Pressure'}"
   ]
  },
  {
   "cell_type": "code",
   "execution_count": 20,
   "id": "b0376605-a8e3-45d1-aaf6-955b936eb277",
   "metadata": {},
   "outputs": [
    {
     "data": {
      "text/plain": [
       "dict_keys(['times', 'stn'])"
      ]
     },
     "execution_count": 20,
     "metadata": {},
     "output_type": "execute_result"
    }
   ],
   "source": [
    "data.keys()"
   ]
  },
  {
   "cell_type": "code",
   "execution_count": 22,
   "id": "70b9c8e7-5ce4-4109-b33f-6481a787549f",
   "metadata": {},
   "outputs": [
    {
     "data": {
      "text/plain": [
       "dict_keys(['tmpf', 'dwpf', 'pressure'])"
      ]
     },
     "execution_count": 22,
     "metadata": {},
     "output_type": "execute_result"
    }
   ],
   "source": [
    "units.keys()"
   ]
  },
  {
   "cell_type": "code",
   "execution_count": 30,
   "id": "dd676867-d213-48c1-bc2a-9fa9429a0095",
   "metadata": {},
   "outputs": [
    {
     "name": "stdout",
     "output_type": "stream",
     "text": [
      "F\n"
     ]
    }
   ],
   "source": [
    "print(units['tmpf'])"
   ]
  },
  {
   "cell_type": "code",
   "execution_count": 32,
   "id": "8be79473-b17f-4961-b300-d91d7aa75b74",
   "metadata": {},
   "outputs": [
    {
     "name": "stdout",
     "output_type": "stream",
     "text": [
      "Temperature\n"
     ]
    }
   ],
   "source": [
    "print(long_names['tmpf'])"
   ]
  },
  {
   "cell_type": "markdown",
   "id": "059790cd-8525-4f02-b230-d6dce5daf6dd",
   "metadata": {},
   "source": [
    "## Sets\n",
    "Python also includes a data type for sets. A set is an unordered collection with no duplicate elements. Basic uses include membership testing and eliminating duplicate entries. Set objects also support mathematical operations like union, intersection, difference, and symmetric difference.\n",
    "\n",
    "Curly braces or the `set()` function can be used to create sets and the function is generally given a list object as input.\n",
    "```python\n",
    "soil_samples = ['clay', 'sand', 'loam', 'silt', 'clay', 'peat', 'sand', 'chalk', 'loam', 'silt']\n",
    "soil_set = set(soil_samples)\n",
    "print(soil_set)\n",
    "\n",
    "```\n",
    "Output\n",
    "```\n",
    "{'silt', 'clay', 'loam', 'peat', 'chalk', 'sand'}\n",
    "```\n",
    "Note: to create an empty set you have to use `set()`, not `{}`; the latter creates an empty dictionary, a data structure that we discuss in the next section.\n",
    "\n",
    "https://docs.python.org/3/tutorial/datastructures.html#sets\n",
    "\n",
    "REF: DeCaria 2.9"
   ]
  },
  {
   "cell_type": "code",
   "execution_count": null,
   "id": "b11c8c10-ffa4-4a0f-96dc-3ca6f6a4724d",
   "metadata": {},
   "outputs": [],
   "source": []
  },
  {
   "cell_type": "markdown",
   "id": "81aac2d9-fb4e-4526-94b1-3828e80d5761",
   "metadata": {},
   "source": [
    "## Numpy Arrays\n",
    "\n",
    "A data object that is very import to scientists using computers is to have a true array, meaning one that we can do math on and have it automatically calculate element by element. Unfortunately, lists won't work as we have seen, so we need to bring in a third-party package (module) that contains this type of data object. Through the course of the semester we will interact with many more data objects that will be useful for our work in Earth Systems Science.\n",
    "\n",
    "The Numpy module is a powerful package that includes not only a true array object, but a number of important calculations that can operate on these arrays in a time efficient manner. We'll dig deeper into all that Numpy as to offer in the next unit, but for now we want to introduce importing a third-party package and the development of a Numpy array."
   ]
  },
  {
   "cell_type": "markdown",
   "id": "82030c99-ec35-446d-81ab-d686346d0d19",
   "metadata": {},
   "source": [
    "### Importing a Module\n",
    "\n",
    "There are many, many, many packages that have been developed to work off of the main Python syntax core, which is relatively small in and of itself. To gain access to those packages, they need to be imported to attach the methods contained within to your notebook/script. There are some common ways to import many packages and we'll use the most common methods over the course of this semester.\n",
    "\n",
    "The main function for bringing in a package is `import`. There are variations on how to bring in a module or just a particular function, which we'll highlight as we go through the semester.\n",
    "\n",
    "To import Numpy we'll use the import function and then give it an alias, or shorthand name, that we'll use to reference the particular components of that module. By doing so we'll protect ourselves against having two functions with the same name with one silently \"overwriting\" the other.\n",
    "\n",
    "```python\n",
    "import numpy as np\n",
    "```\n",
    "\n",
    "This is the most common way you'll see the Numpy module imported into a notebook or script."
   ]
  },
  {
   "cell_type": "code",
   "execution_count": 40,
   "id": "34e30413-4033-485d-ab4c-a04bc3ac0672",
   "metadata": {},
   "outputs": [],
   "source": [
    "import numpy as np"
   ]
  },
  {
   "cell_type": "markdown",
   "id": "3975cb27-749d-4763-804e-39c230766188",
   "metadata": {},
   "source": [
    "### Create simple array\n",
    "\n",
    "The function `array` can take a Python list that contains all of the same type (e.g., integers, floats, strings). To access the function we'll need to use the alias that we created when importing the module `np`."
   ]
  },
  {
   "cell_type": "code",
   "execution_count": 91,
   "id": "c745ceda-e9f6-4def-8052-7b0bc6ce8c4c",
   "metadata": {},
   "outputs": [],
   "source": [
    "a_array = np.array([1, 2, 3, 4, 5])"
   ]
  },
  {
   "cell_type": "markdown",
   "id": "3816d85b-8c50-4d57-ad3b-fcf68643dc8f",
   "metadata": {},
   "source": [
    "Now with this \"true\" array, we can do math and get the expected output with it operating on each element and not doing some concatenation, which is what we had with native Python lists."
   ]
  },
  {
   "cell_type": "code",
   "execution_count": null,
   "id": "ec7e5a0e-ffa2-4c36-86cb-4eb1003a57fe",
   "metadata": {},
   "outputs": [],
   "source": [
    "#dump array to output\n",
    "\n",
    "#verify the type\n"
   ]
  },
  {
   "cell_type": "code",
   "execution_count": null,
   "id": "7fcf406b-7eab-488b-88fe-315ff8cedb3b",
   "metadata": {},
   "outputs": [],
   "source": [
    "#multiply array by..."
   ]
  },
  {
   "cell_type": "code",
   "execution_count": 77,
   "id": "1d3c3518-0148-4f23-b6e4-f659f59f6b06",
   "metadata": {},
   "outputs": [],
   "source": [
    "#Compare with list\n",
    "lista = [1,2,3,4,5]"
   ]
  },
  {
   "cell_type": "code",
   "execution_count": 85,
   "id": "697e195b-46b0-4350-afa8-7c7d458a2c81",
   "metadata": {},
   "outputs": [],
   "source": [
    "#dump list to output\n",
    "\n",
    "#verify the type\n"
   ]
  },
  {
   "cell_type": "code",
   "execution_count": null,
   "id": "faeb2659-4e22-4cfc-be21-55c1c0010430",
   "metadata": {},
   "outputs": [],
   "source": [
    "#multiply list by...\n"
   ]
  },
  {
   "cell_type": "code",
   "execution_count": 58,
   "id": "4bf82540-9e5c-40d9-8d57-7105bc6a3e7d",
   "metadata": {},
   "outputs": [],
   "source": [
    "#Compare with tuple\n",
    "tupla = (1,2,3,4,5)"
   ]
  },
  {
   "cell_type": "code",
   "execution_count": 83,
   "id": "d7ce27a6-4d3e-410c-8350-5b56a7f5834f",
   "metadata": {},
   "outputs": [],
   "source": [
    "#dump tuple to output\n",
    "\n",
    "#verify the type\n"
   ]
  },
  {
   "cell_type": "code",
   "execution_count": 87,
   "id": "8270a10b-d522-4091-8654-10b67c5f4c65",
   "metadata": {},
   "outputs": [],
   "source": [
    "#But... can't replace an element in a tuple\n",
    "#tupla[3] = 40"
   ]
  },
  {
   "cell_type": "code",
   "execution_count": 70,
   "id": "096fd550-53f9-4592-a662-7c2b71c03168",
   "metadata": {},
   "outputs": [],
   "source": [
    "#In a list, you can replace elements\n",
    "#lista[3] = 40"
   ]
  },
  {
   "cell_type": "code",
   "execution_count": 89,
   "id": "03c5a16e-fd0f-47f4-9f75-ca816e9731c9",
   "metadata": {},
   "outputs": [],
   "source": [
    "#dump revised lista"
   ]
  }
 ],
 "metadata": {
  "kernelspec": {
   "display_name": "Python 3 (ipykernel)",
   "language": "python",
   "name": "python3"
  },
  "language_info": {
   "codemirror_mode": {
    "name": "ipython",
    "version": 3
   },
   "file_extension": ".py",
   "mimetype": "text/x-python",
   "name": "python",
   "nbconvert_exporter": "python",
   "pygments_lexer": "ipython3",
   "version": "3.12.4"
  }
 },
 "nbformat": 4,
 "nbformat_minor": 5
}
