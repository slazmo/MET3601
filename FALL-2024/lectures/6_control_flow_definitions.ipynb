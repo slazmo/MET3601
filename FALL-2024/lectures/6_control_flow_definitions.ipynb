{
 "cells": [
  {
   "attachments": {},
   "cell_type": "markdown",
   "id": "c4fbc089-83cf-46c9-807f-f6947c4bfc2e",
   "metadata": {},
   "source": [
    "# Control Flow - Definitions\n",
    "\n",
    "Most of the time, scientists write code as a means to an end, so it ends up being useful for a small range of problems. A method to make your code more extensible and resuable is to modularize it into definitions (functions). When we use functions within our code (e.g., `range()`, `int()`, `float()`, etc.) we are called bits of code contained in definitions that have been packaged together. We could do the same thing to make it easier to reuse our code within other notebooks/projects.\n",
    "\n",
    "<span style=\"color:red\">REF: DeCaria Chapter 8</span>"
   ]
  },
  {
   "cell_type": "markdown",
   "id": "de8c24d0-b5ed-41c6-a0e2-bc320b58294f",
   "metadata": {},
   "source": [
    "## Writing a definition\n",
    "\n",
    "A common thing to write up in a definition would be a unit coversion or simple mathematical calculation. For example, we can write a definition to calculate the area of a square. In that case the required mathematical function is\n",
    "\n",
    "`area = length * width`\n",
    "\n",
    "So let's write a definition to calculate that area."
   ]
  },
  {
   "cell_type": "code",
   "execution_count": null,
   "id": "4429017e-ef21-4332-baa8-9d6b00595a67",
   "metadata": {},
   "outputs": [],
   "source": [
    "def area_rect(l, w):\n",
    "    '''\n",
    "    '''\n",
    "\n",
    "    return"
   ]
  },
  {
   "cell_type": "markdown",
   "id": "a0e1b8a4-dd5f-4753-8862-6806bb3ca936",
   "metadata": {},
   "source": [
    "Let's break that definition down a little\n",
    "\n",
    "**def** is the keyword for declaring a definition (e.g., function or subroutine)\n",
    "\n",
    "**area_rect** is the actual name of the function that you would use in your program to calculate the area\n",
    "\n",
    "**(l, w)** are the inputs for the function. You can feed the function particular values like 8 and 4 or a variable that represents a length and width of a rectangle. Note: These variables (`l` and `w`) are only defined within the scope of the function and won't be accessible by the main program.\n",
    "\n",
    "The `:` works similarly to the colon in the for loop and if statement. Everything after the colon should be indented so that python interprets it to be a part of the definition.\n",
    "\n",
    "The three quote marks defines the doc string that explains what the function is and how it works. If you were to type area_rect? into a cell you would get back that doc string.\n",
    "\n",
    "**area = l * w** is the actual calculation being performed in the definition\n",
    "\n",
    "**return area** is what gets returned to the main program."
   ]
  },
  {
   "cell_type": "markdown",
   "id": "5cf558f2-67ba-42e0-8466-9b9fde67fce9",
   "metadata": {},
   "source": [
    "So once you have run the cell that contains the function it is defined for our use within this notebook. But it is just generic code, sitting there, not really doing anything. We need to call it and feed it some values for it to do work and offer some output.\n",
    "\n",
    "The variables that you feed into the function do not have to be the same as what they are called in the function. Actually, you are better served by them NOT being the same. Mainly so you don't confuse yourself as to what is the value of a particular variable at any given point in your program.\n",
    "\n",
    "Interestingly enough you could feed an array into the length and/or width and it would give you out an array of areas."
   ]
  },
  {
   "cell_type": "code",
   "execution_count": null,
   "id": "8425c422-1caf-4a06-9e74-3dfe26605df0",
   "metadata": {},
   "outputs": [],
   "source": []
  },
  {
   "cell_type": "markdown",
   "id": "8c26557d-a5b2-479d-ab37-001e175c4fef",
   "metadata": {},
   "source": [
    "## Collecting Functions\n",
    "\n",
    "You can collect some of your most commonly used functions in a python script and import it just like you do modules like numpy, matplotlib, and metpy. Those modules are simply sophisticated groups of classes and functions that are installed on your system.\n",
    "\n",
    "If you had a python script that contained your own functions called \"myfuncs.py\" you can import it into any script or ipython notebook with the following import call\n",
    "\n",
    "**import myfuncs**\n",
    "\n",
    "provided that the myfuncs.py file is located in the directory you are working in or running the script from. You could also place a copy where all of your modules reside, then you wouldn't have to worry about having it in your working directory, but that is a bit beyond us at this point."
   ]
  }
 ],
 "metadata": {
  "kernelspec": {
   "display_name": "Python 3 (ipykernel)",
   "language": "python",
   "name": "python3"
  },
  "language_info": {
   "codemirror_mode": {
    "name": "ipython",
    "version": 3
   },
   "file_extension": ".py",
   "mimetype": "text/x-python",
   "name": "python",
   "nbconvert_exporter": "python",
   "pygments_lexer": "ipython3",
   "version": "3.12.4"
  }
 },
 "nbformat": 4,
 "nbformat_minor": 5
}
