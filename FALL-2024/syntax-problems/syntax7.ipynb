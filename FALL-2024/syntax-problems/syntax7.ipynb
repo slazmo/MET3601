{
 "cells": [
  {
   "cell_type": "code",
   "execution_count": 206,
   "id": "bb81d7d6-9bf2-47af-8c2a-56305469b7f7",
   "metadata": {},
   "outputs": [],
   "source": [
    "import numpy as np\n",
    "import datetime \n",
    "from datetime import datetime\n",
    "import matplotlib.pyplot as plt"
   ]
  },
  {
   "cell_type": "code",
   "execution_count": 159,
   "id": "5a7a4b40-1844-476b-8ccb-0cc0b761b796",
   "metadata": {},
   "outputs": [],
   "source": [
    "#DRL set path and filename. This will have to be changed on the JupyterHub\n",
    "path = '/Users/slazarus_admin/OneDrive - Florida Institute of Technology/MET3601/WEEK_6/'\n",
    "file = 'KMLB.txt'\n",
    "\n",
    "# Read in the data using the numpy module genfromtxt (see assignment). DRL used 3 separate\n",
    "# genfromtext calls (see assignment hints)."
   ]
  },
  {
   "cell_type": "code",
   "execution_count": null,
   "id": "d1549426-4820-48b6-b63a-b43de4b3cb1d",
   "metadata": {},
   "outputs": [],
   "source": []
  },
  {
   "cell_type": "code",
   "execution_count": null,
   "id": "d5bd87a2-a5d5-441a-b6f8-e9f00b6fc133",
   "metadata": {},
   "outputs": [],
   "source": []
  },
  {
   "cell_type": "code",
   "execution_count": null,
   "id": "7ec4174c-022b-45f4-abf2-9377a85e5fee",
   "metadata": {},
   "outputs": [],
   "source": []
  },
  {
   "cell_type": "code",
   "execution_count": null,
   "id": "6ea1b4bc-e3ac-4e94-b3f3-48ca7ed8edf0",
   "metadata": {},
   "outputs": [],
   "source": []
  },
  {
   "cell_type": "code",
   "execution_count": 5,
   "id": "9270431f-e84b-432e-a564-0cf655ff645e",
   "metadata": {},
   "outputs": [],
   "source": [
    "# In order to plot your time axis correctly below, you will need the following:\n",
    "\n",
    "dtarray = np.array([datetime.strptime(d, \"%m/%d/%Y %H:%M UTC\") for d in dtime], dtype=\"datetime64[m]\")\n",
    "# Where  dtime is an arbitrary variable name for the numpy array that you used to read in the time string above\n",
    "# The output converts the original numpy string to a date/time string that matplotlib can work with!\n",
    "# You can use any name you like - it doesn't have to be dtarray above.\n",
    "\n",
    "# Uncomment to print out the new date/time array\n",
    "# print(dtarray)"
   ]
  },
  {
   "cell_type": "code",
   "execution_count": 7,
   "id": "9378a210-2d91-408f-853c-7aa01cce73a5",
   "metadata": {},
   "outputs": [],
   "source": [
    "# Plot the temperature and dew point data from KMLB on a single figure and save it to file\n",
    "# named 'kmlb_temps_lastname.png'\n"
   ]
  },
  {
   "cell_type": "code",
   "execution_count": null,
   "id": "19e87b9a-4b54-4d4b-b157-0e4a658cadc5",
   "metadata": {},
   "outputs": [],
   "source": []
  }
 ],
 "metadata": {
  "kernelspec": {
   "display_name": "Python 3 (ipykernel)",
   "language": "python",
   "name": "python3"
  },
  "language_info": {
   "codemirror_mode": {
    "name": "ipython",
    "version": 3
   },
   "file_extension": ".py",
   "mimetype": "text/x-python",
   "name": "python",
   "nbconvert_exporter": "python",
   "pygments_lexer": "ipython3",
   "version": "3.12.4"
  }
 },
 "nbformat": 4,
 "nbformat_minor": 5
}
