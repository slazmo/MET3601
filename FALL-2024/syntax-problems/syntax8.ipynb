{
 "cells": [
  {
   "cell_type": "code",
   "execution_count": 26,
   "id": "bb81d7d6-9bf2-47af-8c2a-56305469b7f7",
   "metadata": {},
   "outputs": [],
   "source": [
    "import numpy as np\n",
    "import datetime \n",
    "from datetime import datetime\n",
    "import matplotlib.pyplot as plt\n",
    "import matplotlib.dates as mdates"
   ]
  },
  {
   "cell_type": "markdown",
   "id": "51e87082-4328-425f-a533-c786fe718081",
   "metadata": {},
   "source": [
    "### Some very useful numpy functions\n",
    "\n",
    "np.nan_to_num(array)   Converts nan's to zeros\n",
    "\n",
    "dtarray = np.array([datetime.strptime(d, \"%m/%d/%Y %H:%M UTC\") for d in dtime], dtype=\"datetime64[m]\")\n",
    "\n",
    "np.genfromtxt(path+file, delimiter='\\t', dtype='?', usecols=?,skip_header=?)\n",
    "\n",
    "to calculate the difference between consecutive (n=1) numpy array elements:\n",
    "\n",
    "new_array = np.diff(original_array, n=1)\n",
    "\n",
    "### Some very useful functions for plotting\n",
    "\n",
    "Limit the x axis time interval per assignment specs:\n",
    "\n",
    "    ax.set_xlim(np.datetime64(*'start time string'*), np.datetime64(*'end time string'*))\n",
    "\n",
    "Reformat the x-axis to plot only the hours and minutes of the date-time string:\n",
    "\n",
    "    fmt = mdates.DateFormatter('%H:%M')\n",
    "\n",
    "    ax.xaxis.set_major_formatter(fmt)\n",
    "\n",
    "Add an single element (zero here) to the end of a numpy array\n",
    "\n",
    "    array_name = np.append(array_name, 0)\n"
   ]
  },
  {
   "cell_type": "code",
   "execution_count": 7,
   "id": "5a7a4b40-1844-476b-8ccb-0cc0b761b796",
   "metadata": {},
   "outputs": [],
   "source": [
    "#DRL set path and filename. This will have to be changed on the JupyterHub\n",
    "path = ' '\n",
    "file = 'KMLB_precip.txt'  #These data were downloaded from https://mesowest.utah.edu/ \n",
    "\n",
    "#Read in the Mesowest datetime string and precipitation data using the numpy module genfromtxt (see \n",
    "#useful functions above)\n",
    "\n"
   ]
  },
  {
   "cell_type": "code",
   "execution_count": 7,
   "id": "b9ec243e-721e-4755-893f-84787a37c615",
   "metadata": {},
   "outputs": [],
   "source": [
    "#For your own sanity, print the numpy precipitation array here (also 'take a peek' at KMLB_precip.txt)"
   ]
  },
  {
   "cell_type": "code",
   "execution_count": null,
   "id": "465dfeea-c7c8-467b-835c-c59902df110e",
   "metadata": {},
   "outputs": [],
   "source": []
  },
  {
   "cell_type": "code",
   "execution_count": 11,
   "id": "9270431f-e84b-432e-a564-0cf655ff645e",
   "metadata": {},
   "outputs": [],
   "source": [
    "#Prepare for plotting by reformating the date time string (see useful numpy functions above or syntax problem 7)\n"
   ]
  },
  {
   "cell_type": "code",
   "execution_count": 31,
   "id": "8b5a9a07-fdde-48f3-aaf6-6a3f98cebacc",
   "metadata": {},
   "outputs": [],
   "source": []
  }
 ],
 "metadata": {
  "kernelspec": {
   "display_name": "Python 3 (ipykernel)",
   "language": "python",
   "name": "python3"
  },
  "language_info": {
   "codemirror_mode": {
    "name": "ipython",
    "version": 3
   },
   "file_extension": ".py",
   "mimetype": "text/x-python",
   "name": "python",
   "nbconvert_exporter": "python",
   "pygments_lexer": "ipython3",
   "version": "3.12.4"
  }
 },
 "nbformat": 4,
 "nbformat_minor": 5
}
